{
 "cells": [
  {
   "cell_type": "markdown",
   "id": "bb45f6b5",
   "metadata": {
    "deletable": false,
    "editable": false,
    "nbgrader": {
     "cell_type": "markdown",
     "checksum": "a1d3b9f9105d6103dbc67c97adf81fb7",
     "grade": false,
     "grade_id": "cell-d9b140858089c26c",
     "locked": true,
     "schema_version": 3,
     "solution": false,
     "task": false
    },
    "user_expressions": []
   },
   "source": [
    "# Exercise 7: Applying your thermochronology model (20 points)\n",
    "\n",
    "## Overview\n",
    "\n",
    "![Bhutan Himalaya](img/Bhutan_Himalaya.png)<br/>\n",
    "*Figure 1. The Himalaya in Bhutan. [Image source](http://commons.wikimedia.org/wiki/File:View_of_Gasa_Dzong.JPG).*\n",
    "\n",
    "The overall goal of this exercise is to use our heat transfer model to interpret [a thermochronometer dataset from the Himalaya of Bhutan](data/Bhutan_age_data.txt). The interpretation entails determining long-term average rock exhumation rates from rock samples analyzed using apatite and zircon (U-Th)/He, and muscovite <sup>40</sup>Ar/<sup>39</sup>Ar thermochronology. As you will recall, [our exercise last week](https://github.com/IntroQG-2021/Exercise-6) used a 1-D time-dependent solution to the advection-diffusion equation to calculate a temperature-depth profile in the Earth, which was then used to predict thermochronometer ages based on Dodson's method. In that model we specified a rock advection velocity and observed variations in the thermochronometer ages as a function of this  velocity, also known as the exhumation rate. This week we will compare those predicted thermochronometer ages to data from Bhutan with the goal of minimizing the misfit between the measured and predicted thermochronometer ages by varying the specified rock advection velocity (exhumation rate), which will allow us to define a best-fit exhumation rate (or exhumation history) for the Himalaya of Bhutan. For this exercise, we will be using data from [Coutand et al., 2014](https://dx.doi.org/10.1002/2013JB010891) and [Stüwe and Foster, 2001](https://www.sciencedirect.com/science/article/pii/S1367912000000183) (PDFs available on the [main course page](https://introqg-site.readthedocs.io/en/latest/final-paper/articles.html)).\n",
    "\n",
    "### Tips for completing this exercise\n",
    "\n",
    "- Use **exactly** the same variable names as in the instructions because your answers will be automatically graded, and the tests that grade your answers rely on following the same formatting or variable naming as in the instructions.\n",
    "- **Please do not**:\n",
    "\n",
    "    - **Change the file names**. Do all of your editing in the provided `Exercise-7-problems-1-2.ipynb` file (this file).\n",
    "    - **Copy/paste cells in this notebook**. We use an automated grading system that will fail if there are copies of code cells.\n",
    "    - **Change the existing cell types**. You can add cells, but changing the cell types for existing cells (from code to markdown, for example) will also cause the automated grader to fail."
   ]
  },
  {
   "cell_type": "markdown",
   "id": "73116a87-78c2-4af7-bbd2-10e9ed0269b4",
   "metadata": {
    "deletable": false,
    "editable": false,
    "nbgrader": {
     "cell_type": "markdown",
     "checksum": "1661ba18fb0c4f1cd1d389003558595b",
     "grade": false,
     "grade_id": "cell-84c1dc17036e721d",
     "locked": true,
     "schema_version": 3,
     "solution": false,
     "task": false
    },
    "tags": [],
    "user_expressions": []
   },
   "source": [
    "## AI tool usage agreement\n",
    "\n",
    "**Enter your name in the cell below** to confirm that you have followed the [course guidelines on the use of AI tools](https://introqg-site.readthedocs.io/en/latest/general-info/ai-tools.html) and understand that misuse of AI tools is considered cheating."
   ]
  },
  {
   "cell_type": "markdown",
   "id": "2d5e363d-0278-4547-9637-1d3a1fec9501",
   "metadata": {
    "deletable": false,
    "nbgrader": {
     "cell_type": "markdown",
     "checksum": "4bf1792def96077b38161f120b7fe3e2",
     "grade": true,
     "grade_id": "AI-LLM_statement",
     "locked": false,
     "points": 0,
     "schema_version": 3,
     "solution": true,
     "task": false
    },
    "tags": [],
    "user_expressions": []
   },
   "source": [
    "YOUR ANSWER HERE"
   ]
  },
  {
   "cell_type": "markdown",
   "id": "b8c3195a",
   "metadata": {
    "deletable": false,
    "editable": false,
    "nbgrader": {
     "cell_type": "markdown",
     "checksum": "2b93ff0b4dbcc4831535217052673cbb",
     "grade": false,
     "grade_id": "cell-9cf663fab69d3b30",
     "locked": true,
     "schema_version": 3,
     "solution": false,
     "task": false
    }
   },
   "source": [
    "## Problem 1: A \"functional\" model (12 points)\n",
    "\n",
    "In the first problem we will read in the data file containing the measured age data, calculate a goodness of fit to the data with our predicted thermochronometer ages, plot the results, and create a final function that does all of the steps in our thermochronometer age prediction numerical model described at the start of Exercise 6.\n",
    "\n",
    "### Scores for this problem\n",
    "\n",
    "**Your score on this problem will be based on following criteria**:\n",
    "\n",
    "- Reading in the age data file\n",
    "- Calculating a goodness of fit for the measured and predicted ages\n",
    "- Creating a plot of the thermal model geotherms and the age data\n",
    "- Creating a new age prediction function that will allow us to do all of the steps in Exercises 6 and 7 in a single function call\n",
    "- Including comments that explain what most lines in the code do\n",
    "- Uploading your notebook and `introqg_functions.py` script file to your GitHub repository for this week's exercise"
   ]
  },
  {
   "cell_type": "markdown",
   "id": "2fd41f26",
   "metadata": {
    "deletable": false,
    "editable": false,
    "nbgrader": {
     "cell_type": "markdown",
     "checksum": "008952f505bd25af5b13b926d5f9091b",
     "grade": false,
     "grade_id": "cell-98ff7cd1a57f09d9",
     "locked": true,
     "schema_version": 3,
     "solution": false,
     "task": false
    }
   },
   "source": [
    "### Part 0: Copying and testing your script file from Exercise 6 (0 points)\n",
    "\n",
    "The first task in this problem is to copy your `introqg_functions.py` script file from Exercise 6 to the directory containing this notebook and then run the cell below to ensure it has been copied and is functioning as expected. Note: We will only check some of the functions in this file using the tests below, not all of them.\n",
    "\n",
    "- Copy your `introqg_functions.py` script file from Exercise 6 to the directory containing this notebook\n",
    "- Run the tests below"
   ]
  },
  {
   "cell_type": "code",
   "execution_count": null,
   "id": "1657b6c3",
   "metadata": {
    "deletable": false,
    "editable": false,
    "nbgrader": {
     "cell_type": "code",
     "checksum": "52a07ac1dcd76e4ca6b1225dae37c366",
     "grade": false,
     "grade_id": "cell-f9c03bc010a2a486",
     "locked": true,
     "schema_version": 3,
     "solution": false,
     "task": false
    }
   },
   "outputs": [],
   "source": [
    "# The test below should work\n",
    "\n",
    "import numpy as np\n",
    "from nose.tools import assert_equal\n",
    "from introqg_functions import calculate_temp_history\n",
    "from introqg_functions import calculate_closure_temps\n",
    "from introqg_functions import calculate_age\n",
    "from introqg_functions import chi_squared\n",
    "\n",
    "# Create time, depth histories\n",
    "time_history = np.linspace(0.0, 30.0, 51)\n",
    "depth_history = np.linspace(45.0, 0.0, 51)\n",
    "\n",
    "# Create temperature history\n",
    "temp_history = calculate_temp_history(\n",
    "    time_history=time_history,\n",
    "    depth_history=depth_history,\n",
    "    velocity=1.5,\n",
    "    initial_gradient=10.0,\n",
    "    diffusivity=32.0\n",
    ")\n",
    "\n",
    "# Calculate closure temperatures\n",
    "ahe_tc, zhe_tc, mar_tc = calculate_closure_temps(\n",
    "    time_history=time_history,\n",
    "    temp_history=temp_history,\n",
    "    calc_ahe=True,\n",
    "    calc_zhe=True,\n",
    "    calc_mar=True\n",
    ")\n",
    "\n",
    "# Calculate ages\n",
    "ahe_age = calculate_age(\n",
    "    time_history=time_history,\n",
    "    temp_history=temp_history,\n",
    "    closure_temp=ahe_tc\n",
    ")\n",
    "zhe_age = calculate_age(\n",
    "    time_history=time_history,\n",
    "    temp_history=temp_history,\n",
    "    closure_temp=zhe_tc\n",
    ")\n",
    "mar_age = calculate_age(\n",
    "    time_history=time_history,\n",
    "    temp_history=temp_history,\n",
    "    closure_temp=mar_tc\n",
    ")\n",
    "\n",
    "# Print calculated closure temperature, age\n",
    "print(f\"Calculated zircon (U-Th)/He closure temperature: {zhe_tc:.1f} °C\")\n",
    "print(f\"Calculated zircon (U-Th)/He age: {zhe_age:.1f} Ma\")\n",
    "\n",
    "# Check that the closure temperature, age values are correct\n",
    "assert_equal(round(zhe_tc, 3), 212.043)\n",
    "assert_equal(round(zhe_age, 3), 4.542)\n",
    "\n",
    "# Calculate age misfit\n",
    "misfit = chi_squared([6.0], [zhe_age], [1.0])\n",
    "\n",
    "# Print misfit\n",
    "print(f\"Calculated age misfit: {misfit:.3f}\")\n",
    "\n",
    "# Check that the misfit value is correct\n",
    "assert_equal(round(misfit, 3), 2.126)\n",
    "\n",
    "# Print message if it is safe to continue\n",
    "print(\"\\nAll tests pass! You are ready to proceed with this exercise.\")"
   ]
  },
  {
   "cell_type": "markdown",
   "id": "097fe79f",
   "metadata": {
    "deletable": false,
    "editable": false,
    "nbgrader": {
     "cell_type": "markdown",
     "checksum": "d39b3dba195dafa078e037de9c3c3bd9",
     "grade": false,
     "grade_id": "cell-7eba61022fdf2827",
     "locked": true,
     "schema_version": 3,
     "solution": false,
     "task": false
    }
   },
   "source": [
    "### Part 1: Reading in the data (2 points)\n",
    "\n",
    "In order to be able to compare our predicted thermochronometer ages to some data, we'll need to read in [the data file](data/Bhutan_age_data.txt). Using the past exercises as examples (look at those notebooks :) ), you should read the data file and store the contents in a pandas DataFrame. The data file has a header that lists the data contained in each column, and there are NA values indicated by `'-9999'`.\n",
    "\n",
    "- In the cell below, read [the data file](data/Bhutan_age_data.txt) into a variable called `data` using pandas.\n",
    "    - When you read in the data, also convert the `'-9999'` values to NA values in the DataFrame.\n",
    "        - Measured ages are listed for each sample location in the data file, but not every sample has been analyzed for each different thermochronometer system.\n",
    "\n",
    "**What to do for this part:**\n",
    "\n",
    "- Read in [the data file](data/Bhutan_age_data.txt) using pandas to the variable `data`\n",
    "    - Be sure to convert the `-9999` values to NA values"
   ]
  },
  {
   "cell_type": "code",
   "execution_count": null,
   "id": "ee3a066b",
   "metadata": {
    "deletable": false,
    "nbgrader": {
     "cell_type": "code",
     "checksum": "87d4a1937626c5fe24894ad16b22c5a4",
     "grade": false,
     "grade_id": "problem_1_ag_p1_data",
     "locked": false,
     "schema_version": 3,
     "solution": true,
     "task": false
    }
   },
   "outputs": [],
   "source": [
    "# Import pandas\n",
    "import pandas as pd\n",
    "\n",
    "# Read in the data file\n",
    "data = None\n",
    "\n",
    "# YOUR CODE HERE\n",
    "raise NotImplementedError()"
   ]
  },
  {
   "cell_type": "code",
   "execution_count": null,
   "id": "4e1ca9d1",
   "metadata": {
    "deletable": false,
    "editable": false,
    "nbgrader": {
     "cell_type": "code",
     "checksum": "84348819a644f39018d5917a3ef5abab",
     "grade": true,
     "grade_id": "problem_1_ag_p1_data_test1",
     "locked": true,
     "points": 1,
     "schema_version": 3,
     "solution": false,
     "task": false
    }
   },
   "outputs": [],
   "source": [
    "# The tests below should work\n",
    "\n",
    "# Import libraries we need\n",
    "import pandas as pd\n",
    "from nose.tools import assert_equal\n",
    "\n",
    "# Print DataFrame info\n",
    "print(f\"The data DataFrame has the dimensions {data.shape}. Expected value: (39, 9).\")\n",
    "\n",
    "# Print the average AHe age\n",
    "print(f\"The average apatite (U-Th)/He age is {data['AHe age'].mean():.1f} Ma. Expected value: 4.9 Ma.\")\n",
    "\n",
    "# Check that the temperature value is correct\n",
    "assert_equal(data.shape, (39, 9))\n",
    "assert_equal(round(data['AHe age'].mean(), 3), 4.888)\n"
   ]
  },
  {
   "cell_type": "code",
   "execution_count": null,
   "id": "9e4b749b",
   "metadata": {
    "deletable": false,
    "editable": false,
    "nbgrader": {
     "cell_type": "code",
     "checksum": "0a870ede30b4123d7d5f0c7820f5f9d0",
     "grade": true,
     "grade_id": "problem_1_ag_p1_data_test2",
     "locked": true,
     "points": 1,
     "schema_version": 3,
     "solution": false,
     "task": false
    }
   },
   "outputs": [],
   "source": [
    "# The tests below should work\n",
    "\n",
    "# Print the number of NA values in the ZHe age column\n",
    "print(f\"The number of NA values in the ZHe age column is {data['ZHe age'].isna().sum()}. Expected value: 21.\")\n",
    "\n",
    "# Print the number of NA values in the ZHe standard deviation column\n",
    "print(f\"The number of NA values in the ZHe standard deviation column is {data['ZHe standard deviation'].isna().sum()}. Expected value: 21.\")\n",
    "\n",
    "# Check number of NA values are correct\n",
    "assert_equal(data['ZHe age'].isna().sum(), 21)\n",
    "assert_equal(data['ZHe standard deviation'].isna().sum(), 21)\n"
   ]
  },
  {
   "cell_type": "markdown",
   "id": "47b63f71",
   "metadata": {
    "deletable": false,
    "editable": false,
    "nbgrader": {
     "cell_type": "markdown",
     "checksum": "3f1f07fa479bcf0cedc0581a6aa8de42",
     "grade": false,
     "grade_id": "cell-673f21925118dc17",
     "locked": true,
     "schema_version": 3,
     "solution": false,
     "task": false
    }
   },
   "source": [
    "### Part 2: Calculating a goodness of fit (2 points)\n",
    "\n",
    "Your next task is to use the `chi_squared()` function you created back in Exercise 2 to calculate some goodness-of-fit values for each thermochronometer system. As a reminder, the equation is\n",
    "\n",
    "\\begin{equation}\n",
    "  \\Large\n",
    "  \\chi^{2} = \\frac{1}{N} \\sum \\frac{(O_{i} - E_{i})^{2}}{\\sigma_{i}^2}\n",
    "\\end{equation}\n",
    "\n",
    "where $N$ is the number of ages, $O_{i}$ is the $i$th measured age, $E_{i}$ is the $i$th predicted age, and $\\sigma_{i}$ is the $i$th standard deviation.\n",
    "\n",
    "- Use your `chi_squared()` function in the cell below to calculate the misfit for:\n",
    "    - The apatite (U-Th)/He ages and standard errors in the data file and the `ahe_age` predicted age\n",
    "    - The zircon (U-Th)/He ages and standard deviations in the data file and the `zhe_age` predicted age\n",
    "    - The muscovite Ar/Ar ages and errors in the data file and the `mar_age` predicted age\n",
    "    - The sum of all three thermochronometers combined (the sum of the three values above)\n",
    "    - **NOTE**: You only have a single predicted age, and the `chi_squared()` function expects the same number of measured and predicted ages. You will need to solve this issue somehow. If you are unsure of what you might do, check out [the hints for this week's exercise](https://introqg.github.io/site/lessons/L7/exercise-7.html).\n",
    "    - **NOTE 2**: Remember to exclude the NA values when calculating the misfits!\n",
    "- Store the calculated misfit values as:\n",
    "    - `ahe_misfit` for the apatite (U-Th)/He ages\n",
    "    - `zhe_misfit` for the zircon (U-Th)/He ages\n",
    "    - `mar_misfit` for the muscovite Ar/Ar ages\n",
    "    - `total_misfit` for the sum of the misfits above\n",
    "\n",
    "**What to do for this part:**\n",
    "\n",
    "- Calculate goodness-of-fit values for each of the three thermochronometer systems and their total sum\n",
    "    - Store the calculated values as `ahe_misfit`, `zhe_misfit`, `mar_misfit`, and `total_misfit`"
   ]
  },
  {
   "cell_type": "code",
   "execution_count": null,
   "id": "71eb085a",
   "metadata": {
    "deletable": false,
    "nbgrader": {
     "cell_type": "code",
     "checksum": "77fd30f5feb6a73feb3b180111fa3ae3",
     "grade": false,
     "grade_id": "problem_1_ag_p2_gof",
     "locked": false,
     "schema_version": 3,
     "solution": true,
     "task": false
    }
   },
   "outputs": [],
   "source": [
    "# Calculate the goodness of fit for each thermochronometer (and the total) below\n",
    "\n",
    "ahe_misfit = None\n",
    "zhe_misfit = None\n",
    "mar_misfit = None\n",
    "total_misfit = None\n",
    "\n",
    "# YOUR CODE HERE\n",
    "raise NotImplementedError()"
   ]
  },
  {
   "cell_type": "code",
   "execution_count": null,
   "id": "db16f87e",
   "metadata": {
    "deletable": false,
    "editable": false,
    "nbgrader": {
     "cell_type": "code",
     "checksum": "41574e6591c505c1ea50dec990e640ed",
     "grade": true,
     "grade_id": "problem_1_ag_p2_gof_test1",
     "locked": true,
     "points": 1,
     "schema_version": 3,
     "solution": false,
     "task": false
    }
   },
   "outputs": [],
   "source": [
    "# This test should work\n",
    "\n",
    "# Import libraries we need\n",
    "from nose.tools import assert_equal\n",
    "\n",
    "# Print AHe goodness of fit\n",
    "print(f\"Apatite (U-Th)/He goodness of fit: {ahe_misfit:.2f}. Expected value: 158.35\")\n",
    "\n",
    "# Test AHe goodness-of-fit value is correct\n",
    "assert_equal(round(ahe_misfit, 3), 158.346)\n"
   ]
  },
  {
   "cell_type": "code",
   "execution_count": null,
   "id": "1708f383",
   "metadata": {
    "deletable": false,
    "editable": false,
    "nbgrader": {
     "cell_type": "code",
     "checksum": "d4dd6ad93bdd708bad4f8910fea9fd18",
     "grade": true,
     "grade_id": "problem_1_ag_p2_gof_test2",
     "locked": true,
     "points": 1,
     "schema_version": 3,
     "solution": false,
     "task": false
    }
   },
   "outputs": [],
   "source": [
    "# This test should work\n",
    "\n",
    "# Print total goodness of fit\n",
    "print(f\"Total goodness of fit: {total_misfit:.2f}. Expected value: 1499.58\")\n",
    "\n",
    "# Test AHe goodness-of-fit value is correct\n",
    "assert_equal(round(total_misfit, 3), 1499.582)"
   ]
  },
  {
   "cell_type": "markdown",
   "id": "c6280a64",
   "metadata": {
    "deletable": false,
    "editable": false,
    "nbgrader": {
     "cell_type": "markdown",
     "checksum": "b0977d300928d719c61139c78f86b263",
     "grade": false,
     "grade_id": "cell-6f42643fe213b538",
     "locked": true,
     "schema_version": 3,
     "solution": false,
     "task": false
    }
   },
   "source": [
    "### Part 3: Creating a pair of useful plots (6 points)\n",
    "\n",
    "At this point, we basically have everything we need to start working on Problem 2, where you will try to find the exhumation rates that best fit each thermochronometer dataset. However, you may still be somewhat unclear on the temperatures that have been recorded in the cooling history and how well our measured ages are fit by the predictions. The goal in this part is to produce two plots that will help you more easily understand and visualize the data we are working with.\n",
    "\n",
    "**Configuring the plot layout**\n",
    "\n",
    "To start, we can create a figure and plot axes in the cell below using Matplotlib.\n",
    "\n",
    "- Create a figure and plot using Matplotlib's `plt.subplots()` function with two subplots in one column and a figure size of 10 inches wide by 8 inches tall\n",
    "    - Use the variable `fig` for the figure and `ax1` and `ax2` for the plot axes\n",
    "        - **Hint**: You can assign the two plot axes the suggested names by listing them together as a tuple. Instead of the typical `ax`, you can list `(ax1, ax2)`.\n",
    "    - You can also add a figure title at this point using `fig.suptitle()`. If you want more information about how to use this function, check out the [Matplotlib documentation](https://matplotlib.org/stable/api/_as_gen/matplotlib.pyplot.suptitle.html).\n",
    "\n",
    "**Subplot one (upper)**\n",
    "\n",
    "In the first subplot you will plot the initial geotherm in the thermal model, the final geotherm, and the thermal history. For this plot you should:\n",
    "\n",
    "- Create a depth array (variable `depths`) with 51 points from 0 to 45 km depth \n",
    "- Calculate the initial geotherm (variable `initial_geotherm`) with 51 points using an initial thermal gradient of 10 °C/km from 0 to 45 km depth (the same as in the `introqg_functions()` test cell at the start of this exercise\n",
    "    - Note that all you need to do here is just use the `np.linspace()` function to make this as it is a straight line\n",
    "- Calculate the final geotherm (variable `final_geotherm`) with 51 points using the `transient_temp()` function from your `introqg_functions.py` script file. You can use the following values for this calculation:\n",
    "    - `initial_gradient` = 10 °C/km\n",
    "    - `diffusivity` = 32 km$^{2}$/Myr\n",
    "    - `velocity` = 1.5 km/Myr\n",
    "    - `depths` = `depths` array\n",
    "    - `time` = 30 Myr\n",
    "- Plot the initial and final geotherms on this figure\n",
    "    - You can use Matplotlib's `ax1.plot()` function for this\n",
    "    - Be sure to add some labels for each so they can be identified in the legend\n",
    "    - Also remember to plot the depths as negative values or invert the y-axis in order to have depths increase downwards\n",
    "- Also plot the temperature history using the variables `temp_history` and `depth_history` as black filled circles\n",
    "    - You can again use Matplotlib's `ax1.plot()` function for this\n",
    "    - Again, be sure to include an label for this plot item so it appears in the legend and plot the depths as negative values or invert the y-axis in order to have depths increase downwards\n",
    "- You should add the advection velocity as text on the plot\n",
    "- Be sure to display the legend, and add axis labels\n",
    "\n",
    "**Subplot two (lower)**\n",
    "\n",
    "The second subplot can be created in the lower set of axes. There you should plot the measured age data, the predicted ages, and the goodness-of-fit values as follows:\n",
    "\n",
    "- Plot the measured apatite (U-Th)/He, zircon (U-Th)/He, and muscovite Ar/Ar ages as a scatter plot using pandas\n",
    "    - The x-axis should be latitude and the y-axis should have the measured ages\n",
    "    - You should set the parameter for the plot axes to use `ax2`. Check the [pandas documentation](https://pandas.pydata.org/pandas-docs/stable/reference/api/pandas.DataFrame.plot.html) for details.\n",
    "    - You should also plot the uncertainties in the measured ages using the `yerr` parameter. Again, check the [pandas documentation](https://pandas.pydata.org/pandas-docs/stable/reference/api/pandas.DataFrame.plot.html) for details.\n",
    "    - Finally, use the `color` parameter to assign unique colors for the different age systems, and add a label for the plotted points so they can be displayed in the legend\n",
    "- Plot the predicted thermochronometer ages as horizontal lines spanning the latitude range\n",
    "    - You can do this using the `ax2.plot()` function\n",
    "    - Again, set the line color to be different for each thermochronometer system and use the same colors as you did for the measured ages\n",
    "    - If you are unsure of how to proceed, have a look at [the hints for this week's exercise](https://introqg.github.io/site/lessons/L7/exercise-7.html).\n",
    "- Also add the misfits for the different thermochronometer systems as well as the total misfit as text on the plot\n",
    "    - If you want to display only the misfits for thermochronometers that have calculated ages you can use an `if` test that checks that the predicted thermochronometer closure temperature is not `None`\n",
    "- Finally, add axis labels\n",
    "\n",
    "**What to do for this part:**\n",
    "\n",
    "- Create the pair of subplots as instructed above\n",
    "- Include a figure caption in the cell beneath the plot describing it as if it were in a scientific journal article"
   ]
  },
  {
   "cell_type": "code",
   "execution_count": null,
   "id": "704101db",
   "metadata": {
    "deletable": false,
    "nbgrader": {
     "cell_type": "code",
     "checksum": "793c975c8cde8f3cf0e3f22ba8e42e87",
     "grade": true,
     "grade_id": "problem_1_mg_p3_subplots",
     "locked": false,
     "points": 5,
     "schema_version": 3,
     "solution": true,
     "task": false
    }
   },
   "outputs": [],
   "source": [
    "import matplotlib.pyplot as plt\n",
    "from introqg_functions import transient_temp\n",
    "\n",
    "# Create your subplots below\n",
    "\n",
    "# YOUR CODE HERE\n",
    "raise NotImplementedError()"
   ]
  },
  {
   "cell_type": "markdown",
   "id": "b70579fe",
   "metadata": {
    "deletable": false,
    "nbgrader": {
     "cell_type": "markdown",
     "checksum": "d5959f3aaa158a495b0eb7416c99ad70",
     "grade": true,
     "grade_id": "problem_1_mg_p3_subplots_caption",
     "locked": false,
     "points": 1,
     "schema_version": 3,
     "solution": true,
     "task": false
    }
   },
   "source": [
    "YOUR ANSWER HERE"
   ]
  },
  {
   "cell_type": "markdown",
   "id": "a5844d3d",
   "metadata": {
    "deletable": false,
    "editable": false,
    "nbgrader": {
     "cell_type": "markdown",
     "checksum": "24f791d9b55039e6b7fbec0fe7657262",
     "grade": false,
     "grade_id": "cell-d7786cd2d34b0efd",
     "locked": true,
     "schema_version": 3,
     "solution": false,
     "task": false
    }
   },
   "source": [
    "### Part 4: A numerical model in one function (2 points)\n",
    "\n",
    "The final part of this problem is to take everything we have done in Exercise 6 and this exercise and combine it into a single function that we can call to calculate geotherms, create a thermal history, calculate thermochronometer ages, read in a data file, and calculate the goodness of fit between the predicted ages and the measured ages from the data file. We can mostly copy and paste things from Exercise 6 and this exercise, but we will need to make a few minor adjustments.\n",
    "\n",
    "**The function definition**\n",
    "\n",
    "The function you will create in your `introqg_functions.py` script file should be called `age_calculator()`. The function should take the following parameters:\n",
    "\n",
    "- `total_time` (total simulation time; units: Myr)\n",
    "- `num_pts` (number of points where the temperatures and thermal history are calculated; units: none)\n",
    "- `velocity` (advection velocity; units: km / Myr)\n",
    "- `initial_gradient` (temperature gradient at start of calculation; units: deg. C / km)\n",
    "- `diffusivity` (thermal diffisivity; units: km^2 / Myr)\n",
    "\n",
    "**The function contents**\n",
    "\n",
    "The function should do the following things, which you can copy and paste from cells above and those in Exercise 6.\n",
    "\n",
    "1. Read in the age data file used earlier in this exercise to the variable `data` using pandas\n",
    "2. Create a time and depth history as was done in Part 1 of Exercise 6 (using the parameter values)\n",
    "3. Calculate a thermal history, thermochronometer closure temperatures, and predicted thermochronometer ages\n",
    "    - Be sure to use the parameter values in the function definition here\n",
    "    - Set the closure temperature calculation flags to all be `True`\n",
    "4. Calculate the goodness of fit for each thermochronometer system and the total goodness of fit\n",
    "    - Note that you may want to set the total misfit to `0.0` at first and then add the misfit values for each thermochronometer system to that value only if the thermochronometer closure temperature is not `None`\n",
    "    - At this point it may also be helpful to print out the predicted thermochronometer ages and misfit values as text using the `print()` function, just for your reference\n",
    "    - **Hint**: You should pass the values from the `data` DataFrame used in the goodness of fit calculation as arrays (not pandas Series) by adding `.values` to the passed values\n",
    "5. Plot the results as done in the previous part of this problem\n",
    "    - You can create an array for the geotherm depths using the maximum depth used for the thermal history\n",
    "    - You can also use the `velocity` parameter value to display the advection velocity on the plot and the `total_time` parameter to label the line for the final geotherm\n",
    "6. You can return `None` from this function\n",
    "\n",
    "**What to do for this part:**\n",
    "\n",
    "- Create the `age_calculator()` function in your `introqg_functions.py` script file as described above\n",
    "- Create an example plot using your function in the cell below by calling the function with the following parameters:\n",
    "    - `total_time`: 50.0\n",
    "    - `num_pts`: 401\n",
    "    - `velocity`: 0.5\n",
    "    - `initial_gradient`: 10.0\n",
    "    - `diffusivity`: 32.0"
   ]
  },
  {
   "cell_type": "code",
   "execution_count": null,
   "id": "c6cbb817",
   "metadata": {
    "deletable": false,
    "nbgrader": {
     "cell_type": "code",
     "checksum": "67d09cc3751dd6b89c5a8d369e32c31e",
     "grade": true,
     "grade_id": "problem_1_mg_p4_function_call",
     "locked": false,
     "points": 2,
     "schema_version": 3,
     "solution": true,
     "task": false
    }
   },
   "outputs": [],
   "source": [
    "# Call your age_calculator() function below\n",
    "from introqg_functions import age_calculator\n",
    "\n",
    "# YOUR CODE HERE\n",
    "raise NotImplementedError()"
   ]
  },
  {
   "cell_type": "markdown",
   "id": "7a10b3b9",
   "metadata": {
    "deletable": false,
    "editable": false,
    "nbgrader": {
     "cell_type": "markdown",
     "checksum": "e20820599cadb36030ddbc5c09a22cba",
     "grade": false,
     "grade_id": "cell-0c0373a54a247ee3",
     "locked": true,
     "schema_version": 3,
     "solution": false,
     "task": false
    }
   },
   "source": [
    "## Problem 2 - \"Fitting\" thermochronometer data (8 points)\n",
    "\n",
    "Using the function you have created in Problem 1, your goal is now to find the average long-term exhumation rates that provide good fits to the measured thermochronometer data.\n",
    "\n",
    "### Scores for this problem\n",
    "\n",
    "**Your score on this problem will be based on following criteria**:\n",
    "\n",
    "- Calculating the advection velocities that produce the best goodness of fit for the whole age dataset and each individual thermochronometer system\n",
    "- Adding captions that describe the plots produced in each part\n",
    "- Including comments that explain what most lines in the code do\n",
    "- Uploading your notebook to your GitHub repository for this week's exercise"
   ]
  },
  {
   "cell_type": "markdown",
   "id": "2c1d18fb",
   "metadata": {
    "deletable": false,
    "editable": false,
    "nbgrader": {
     "cell_type": "markdown",
     "checksum": "4f8cf7598bef226b2e3a370db9a7913e",
     "grade": false,
     "grade_id": "cell-12eb33070b2e4113",
     "locked": true,
     "schema_version": 3,
     "solution": false,
     "task": false
    }
   },
   "source": [
    "### Part 1: Fitting all the ages (2 points)\n",
    "\n",
    "We'll start this problem by minimizing the misfit value for all of the thermochronometer data in this part.\n",
    "\n",
    "**What to do for this part:**\n",
    "\n",
    "- Call the `age_calculator()` function in the cell below in a series of models where you change only the advection velocity in order to find a minimum goodness-of-fit value for the whole thermochronometer age dataset (i.e., the total misfit)\n",
    "    - Define the advection velocity you will use as `velocity_all`, then call the function using that value\n",
    "    - You do not need to find the absolute minimum goodness-of-fit value, but rather the minimum value you get for advection velocities to the nearest 0.1 km/Myr\n",
    "- For the other parameters you can use:\n",
    "    - `total_time`: 50.0\n",
    "    - `num_pts`: 401\n",
    "    - `initial_gradient`: 10.0\n",
    "    - `diffusivity`: 32.0\n",
    "- Add a figure caption for the plot in the cell beneath it describing it as if it were in a scientific journal article\n",
    "    - Be sure the advection velocity (exhumation rate) and misfit value are clearly displayed on the plot"
   ]
  },
  {
   "cell_type": "code",
   "execution_count": null,
   "id": "008ce045",
   "metadata": {
    "deletable": false,
    "nbgrader": {
     "cell_type": "code",
     "checksum": "4359ae426a4a6ba9f2d85cf3460488d1",
     "grade": false,
     "grade_id": "problem_2_ag_p1_all",
     "locked": false,
     "schema_version": 3,
     "solution": true,
     "task": false
    }
   },
   "outputs": [],
   "source": [
    "from introqg_functions import age_calculator\n",
    "\n",
    "# Define the advection velocity to use\n",
    "velocity_all = None\n",
    "\n",
    "# Call your age_calculator() function below\n",
    "\n",
    "\n",
    "# YOUR CODE HERE\n",
    "raise NotImplementedError()"
   ]
  },
  {
   "cell_type": "markdown",
   "id": "29920d33",
   "metadata": {
    "deletable": false,
    "nbgrader": {
     "cell_type": "markdown",
     "checksum": "0caecc76c73e982da0a8059e58e66e5b",
     "grade": true,
     "grade_id": "problem_2_mg_p1_caption",
     "locked": false,
     "points": 1,
     "schema_version": 3,
     "solution": true,
     "task": false
    }
   },
   "source": [
    "YOUR ANSWER HERE"
   ]
  },
  {
   "cell_type": "code",
   "execution_count": null,
   "id": "df7a9910",
   "metadata": {
    "deletable": false,
    "editable": false,
    "nbgrader": {
     "cell_type": "code",
     "checksum": "55fc36c738869819d1104b66d7ba2ac7",
     "grade": true,
     "grade_id": "problem_2_ag_p1_all_test1",
     "locked": true,
     "points": 1,
     "schema_version": 3,
     "solution": false,
     "task": false
    }
   },
   "outputs": [],
   "source": [
    "# This print statement should work\n",
    "print(f\"The best goodness of fit I found for all the data was using an advection velocity of {velocity_all:.1f} km/Ma.\")\n"
   ]
  },
  {
   "cell_type": "markdown",
   "id": "872e8550",
   "metadata": {
    "deletable": false,
    "editable": false,
    "nbgrader": {
     "cell_type": "markdown",
     "checksum": "a0350bf8bd8b8555975a8eb0f35548b2",
     "grade": false,
     "grade_id": "cell-4f5b908878d263a0",
     "locked": true,
     "schema_version": 3,
     "solution": false,
     "task": false
    }
   },
   "source": [
    "### Part 2: Fitting the apatite (U-Th)/He ages (2 points)\n",
    "\n",
    "Now we can focus on fitting a single thermochronometer system.\n",
    "\n",
    "**What to do for this part:**\n",
    "\n",
    "- Call the `age_calculator()` function in the cell below in a series of models where you change only the advection velocity in order to find a minimum goodness-of-fit value for the apatite (U-Th)/He age data\n",
    "    - Define the advection velocity you will use as `velocity_ahe`, then call the function using that value\n",
    "    - You do not need to find the absolute minimum goodness-of-fit value, but rather the minimum value you get for advection velocities to the nearest 0.1 km/Myr\n",
    "- For the other parameters you can use:\n",
    "    - `total_time`: 50.0\n",
    "    - `num_pts`: 401\n",
    "    - `initial_gradient`: 10.0\n",
    "    - `diffusivity`: 32.0\n",
    "- Add a figure caption for the plot in the cell beneath it describing it as if it were in a scientific journal article\n",
    "    - Be sure the advection velocity (exhumation rate) and apatite (U-Th)/He misfit value are clearly displayed on the plot"
   ]
  },
  {
   "cell_type": "code",
   "execution_count": null,
   "id": "cb2a9b64",
   "metadata": {
    "deletable": false,
    "nbgrader": {
     "cell_type": "code",
     "checksum": "8545e07161c64fc3578e14ab72f4aa12",
     "grade": false,
     "grade_id": "problem_2_ag_p2_ahe",
     "locked": false,
     "schema_version": 3,
     "solution": true,
     "task": false
    }
   },
   "outputs": [],
   "source": [
    "# Define the advection velocity to use\n",
    "velocity_ahe = None\n",
    "\n",
    "# Call your age_calculator() function below\n",
    "\n",
    "\n",
    "# YOUR CODE HERE\n",
    "raise NotImplementedError()"
   ]
  },
  {
   "cell_type": "markdown",
   "id": "9b38cb63",
   "metadata": {
    "deletable": false,
    "nbgrader": {
     "cell_type": "markdown",
     "checksum": "23ffe150b17c12ddfdcae9896f45a4f0",
     "grade": true,
     "grade_id": "problem_2_mg_p2_caption",
     "locked": false,
     "points": 1,
     "schema_version": 3,
     "solution": true,
     "task": false
    }
   },
   "source": [
    "YOUR ANSWER HERE"
   ]
  },
  {
   "cell_type": "code",
   "execution_count": null,
   "id": "5b20563c",
   "metadata": {
    "deletable": false,
    "editable": false,
    "nbgrader": {
     "cell_type": "code",
     "checksum": "3bb94d7f5f810e83a84ee52a31523b6e",
     "grade": true,
     "grade_id": "problem_2_ag_p2_ahe_test1",
     "locked": true,
     "points": 1,
     "schema_version": 3,
     "solution": false,
     "task": false
    }
   },
   "outputs": [],
   "source": [
    "# This print statement should work\n",
    "print(f\"The best goodness of fit I found for the AHe data was using an advection velocity of {velocity_ahe:.1f} km/Ma.\")\n"
   ]
  },
  {
   "cell_type": "markdown",
   "id": "0f2080cb",
   "metadata": {
    "deletable": false,
    "editable": false,
    "nbgrader": {
     "cell_type": "markdown",
     "checksum": "dc1c845b7c4ee9a4113ceabcb59e4857",
     "grade": false,
     "grade_id": "cell-ca5faabb386cb6f0",
     "locked": true,
     "schema_version": 3,
     "solution": false,
     "task": false
    }
   },
   "source": [
    "### Part 3: Fitting the zircon (U-Th)/He ages (2 points)\n",
    "\n",
    "Now we can focus on fitting a single thermochronometer system.\n",
    "\n",
    "**What to do for this part:**\n",
    "\n",
    "- Call the `age_calculator()` function in the cell below in a series of models where you change only the advection velocity in order to find a minimum goodness-of-fit value for the zircon (U-Th)/He age data\n",
    "    - Define the advection velocity you will use as `velocity_zhe`, then call the function using that value\n",
    "    - You do not need to find the absolute minimum goodness-of-fit value, but rather the minimum value you get for advection velocities to the nearest 0.1 km/Myr\n",
    "- For the other parameters you can use:\n",
    "    - `total_time`: 50.0\n",
    "    - `num_pts`: 401\n",
    "    - `initial_gradient`: 10.0\n",
    "    - `diffusivity`: 32.0\n",
    "- Add a figure caption for the plot in the cell beneath it describing it as if it were in a scientific journal article\n",
    "    - Be sure the advection velocity (exhumation rate) and zircon (U-Th)/He misfit value are clearly displayed on the plot"
   ]
  },
  {
   "cell_type": "code",
   "execution_count": null,
   "id": "cce97c68",
   "metadata": {
    "deletable": false,
    "nbgrader": {
     "cell_type": "code",
     "checksum": "175f844cee051ed8bdae62abdb5f9450",
     "grade": false,
     "grade_id": "problem_2_ag_p3_zhe",
     "locked": false,
     "schema_version": 3,
     "solution": true,
     "task": false
    }
   },
   "outputs": [],
   "source": [
    "# Define the advection velocity to use\n",
    "velocity_zhe = None\n",
    "\n",
    "# Call your age_calculator() function below\n",
    "\n",
    "\n",
    "# YOUR CODE HERE\n",
    "raise NotImplementedError()"
   ]
  },
  {
   "cell_type": "markdown",
   "id": "75bbd0d0",
   "metadata": {
    "deletable": false,
    "nbgrader": {
     "cell_type": "markdown",
     "checksum": "6b8cab6585c25baf084b1f939040fb05",
     "grade": true,
     "grade_id": "problem_2_mg_p3_caption",
     "locked": false,
     "points": 1,
     "schema_version": 3,
     "solution": true,
     "task": false
    }
   },
   "source": [
    "YOUR ANSWER HERE"
   ]
  },
  {
   "cell_type": "code",
   "execution_count": null,
   "id": "983960fc",
   "metadata": {
    "deletable": false,
    "editable": false,
    "nbgrader": {
     "cell_type": "code",
     "checksum": "af9c00875239d3f49762ef950348a04e",
     "grade": true,
     "grade_id": "problem_2_ag_p3_zhe_test1",
     "locked": true,
     "points": 1,
     "schema_version": 3,
     "solution": false,
     "task": false
    }
   },
   "outputs": [],
   "source": [
    "# This print statement should work\n",
    "print(f\"The best goodness of fit I found for the ZHe data was using an advection velocity of {velocity_zhe:.1f} km/Ma.\")\n"
   ]
  },
  {
   "cell_type": "markdown",
   "id": "330c4bb1",
   "metadata": {
    "deletable": false,
    "editable": false,
    "nbgrader": {
     "cell_type": "markdown",
     "checksum": "27897d1ae2964e9f1d0c01b2c661e6b1",
     "grade": false,
     "grade_id": "cell-a4107f20e0bdc344",
     "locked": true,
     "schema_version": 3,
     "solution": false,
     "task": false
    }
   },
   "source": [
    "### Part 4: Fitting the muscovite Ar/Ar ages (2 points)\n",
    "\n",
    "Now we can focus on fitting a single thermochronometer system.\n",
    "\n",
    "**What to do for this part:**\n",
    "\n",
    "- Call the `age_calculator()` function in the cell below in a series of models where you change only the advection velocity in order to find a minimum goodness-of-fit value for the muscovite Ar/Ar age data\n",
    "    - Define the advection velocity you will use as `velocity_mar`, then call the function using that value\n",
    "    - You do not need to find the absolute minimum goodness-of-fit value, but rather the minimum value you get for advection velocities to the nearest 0.1 km/Myr\n",
    "- For the other parameters you can use:\n",
    "    - `total_time`: 50.0\n",
    "    - `num_pts`: 401\n",
    "    - `initial_gradient`: 10.0\n",
    "    - `diffusivity`: 32.0\n",
    "- Add a figure caption for the plot in the cell beneath it describing it as if it were in a scientific journal article\n",
    "    - Be sure the advection velocity (exhumation rate) and muscovite Ar/Ar misfit value are clearly displayed on the plot"
   ]
  },
  {
   "cell_type": "code",
   "execution_count": null,
   "id": "119ea081",
   "metadata": {
    "deletable": false,
    "nbgrader": {
     "cell_type": "code",
     "checksum": "551730200502de9703679a78b3b4150b",
     "grade": false,
     "grade_id": "cell-a808006a9bfcb623",
     "locked": false,
     "schema_version": 3,
     "solution": true,
     "task": false
    }
   },
   "outputs": [],
   "source": [
    "# Define the advection velocity to use\n",
    "velocity_mar = None\n",
    "\n",
    "# Call your age_calculator() function below\n",
    "\n",
    "\n",
    "# YOUR CODE HERE\n",
    "raise NotImplementedError()"
   ]
  },
  {
   "cell_type": "markdown",
   "id": "1d7258fd",
   "metadata": {
    "deletable": false,
    "nbgrader": {
     "cell_type": "markdown",
     "checksum": "624831f2c63b3b30c9be84313df6b95b",
     "grade": true,
     "grade_id": "cell-30569ac81a5b85b7",
     "locked": false,
     "points": 1,
     "schema_version": 3,
     "solution": true,
     "task": false
    }
   },
   "source": [
    "YOUR ANSWER HERE"
   ]
  },
  {
   "cell_type": "code",
   "execution_count": null,
   "id": "97f0b84b",
   "metadata": {
    "deletable": false,
    "editable": false,
    "nbgrader": {
     "cell_type": "code",
     "checksum": "409a8ac85b919625aae0a6dd2d57f70a",
     "grade": true,
     "grade_id": "cell-6edd438b6f0d6e80",
     "locked": true,
     "points": 1,
     "schema_version": 3,
     "solution": false,
     "task": false
    }
   },
   "outputs": [],
   "source": [
    "# This print statement should work\n",
    "print(f\"The best goodness of fit I found for the MAr data was using an advection velocity of {velocity_mar:.1f} km/Ma.\")\n"
   ]
  },
  {
   "cell_type": "markdown",
   "id": "2506b905",
   "metadata": {
    "deletable": false,
    "editable": false,
    "nbgrader": {
     "cell_type": "markdown",
     "checksum": "6dfb9dda9f38f34e153c4c1cacf0ade0",
     "grade": false,
     "grade_id": "cell-d56eb2f086f13589",
     "locked": true,
     "schema_version": 3,
     "solution": false,
     "task": false
    }
   },
   "source": [
    "## Optional reflection questions (0 points)\n",
    "\n",
    "We invite you to consider the following questions. Please answer them briefly in the Markdown cell below.\n",
    "\n",
    "1. What general trend do you observe for advection velocities that provide the best goodness of fit for the different thermochronometer systems?\n",
    "2. Do all thermochronmeter systems seem to have the same influence on the total misfit value, or are some more influential than others?\n",
    "3. How helpful are the plots you have created in terms of understanding rock thermal histories and predicted thermochronometer ages?"
   ]
  },
  {
   "cell_type": "markdown",
   "id": "d01bcf92",
   "metadata": {
    "deletable": false,
    "nbgrader": {
     "cell_type": "markdown",
     "checksum": "67fba28b607811c1369d1b8f3e981e99",
     "grade": true,
     "grade_id": "cell-e5bdcd982fb3180e",
     "locked": false,
     "points": 0,
     "schema_version": 3,
     "solution": true,
     "task": false
    }
   },
   "source": [
    "YOUR ANSWER HERE"
   ]
  },
  {
   "cell_type": "markdown",
   "id": "816d9c9a",
   "metadata": {
    "deletable": false,
    "editable": false,
    "nbgrader": {
     "cell_type": "markdown",
     "checksum": "d444e25909276ca7ed3f4363ed313cc5",
     "grade": false,
     "grade_id": "cell-2ddf4f32d5d7088f",
     "locked": true,
     "schema_version": 3,
     "solution": false,
     "task": false
    }
   },
   "source": [
    "## References\n",
    "\n",
    "Coutand, I., Whipp, D. M., Grujic, D., Bernet, M., Fellin, M. G., Bookhagen, B., et al. (2014). [Geometry and kinematics of the Main Himalayan Thrust and Neogene crustal exhumation in the Bhutanese Himalaya derived from inversion of multithermochronologic data](https://dx.doi.org/10.1002/2013JB010891). *Journal of Geophysical Research: Solid Earth*.\n",
    "\n",
    "Stüwe, K., & Foster, D. (2001). [<sup>40</sup>Ar/<sup>39</sup>Ar, pressure, temperature and fission track constraints on the age and nature of metamorphism around the main central thrust in the eastern Bhutan Himalaya](https://www.sciencedirect.com/science/article/pii/S1367912000000183). *Journal of Asian Earth Sciences*, 19(1), 85–95."
   ]
  }
 ],
 "metadata": {
  "kernelspec": {
   "display_name": "Python 3 (ipykernel)",
   "language": "python",
   "name": "python3"
  },
  "language_info": {
   "codemirror_mode": {
    "name": "ipython",
    "version": 3
   },
   "file_extension": ".py",
   "mimetype": "text/x-python",
   "name": "python",
   "nbconvert_exporter": "python",
   "pygments_lexer": "ipython3",
   "version": "3.10.13"
  }
 },
 "nbformat": 4,
 "nbformat_minor": 5
}
