{
 "cells": [
  {
   "cell_type": "markdown",
   "id": "e6e391d4",
   "metadata": {
    "deletable": false,
    "editable": false,
    "nbgrader": {
     "cell_type": "markdown",
     "checksum": "326fda1045f1bde5880ea67342a26d8d",
     "grade": false,
     "grade_id": "cell-39cfdc263fcba8c6",
     "locked": true,
     "schema_version": 3,
     "solution": false,
     "task": false
    }
   },
   "source": [
    "# Exercise 4: Advection and diffusion of heat (20 points)\n",
    "\n",
    "This week's exercise investigates how the advection and diffusion equations can be combined to simulate heat transfer in the Earth's crust.\n",
    "\n",
    "### Tips for completing this exercise\n",
    "\n",
    "- Use **exactly** the same variable names as in the instructions because your answers will be automatically graded, and the tests that grade your answers rely on following the same formatting or variable naming as in the instructions.\n",
    "- **Please do not**:\n",
    "\n",
    "    - **Change the file names**. Do all of your editing in the provided `Exercise-4-problems-1-2.ipynb` file (this file).\n",
    "    - **Copy/paste cells in this notebook**. We use an automated grading system that will fail if there are copies of code cells.\n",
    "    - **Change the existing cell types**. You can add cells, but changing the cell types for existing cells (from code to markdown, for example) will also cause the automated grader to fail."
   ]
  },
  {
   "cell_type": "markdown",
   "id": "88a7ac0a-dba9-4e28-874f-dcf6faed407c",
   "metadata": {
    "deletable": false,
    "editable": false,
    "nbgrader": {
     "cell_type": "markdown",
     "checksum": "a643c6b643709d268b42145b632a615f",
     "grade": false,
     "grade_id": "cell-18aa1f1be2eb99be",
     "locked": true,
     "schema_version": 3,
     "solution": false,
     "task": false
    },
    "tags": []
   },
   "source": [
    "## AI tool usage agreement\n",
    "\n",
    "**Enter your name in the cell below** to confirm that you have followed the [course guidelines on the use of AI tools](https://introqg-site.readthedocs.io/en/latest/general-info/ai-tools.html) and understand that misuse of AI tools is considered cheating."
   ]
  },
  {
   "cell_type": "markdown",
   "id": "e0177288-9f12-48c9-be3f-eae4969e75ee",
   "metadata": {
    "deletable": false,
    "nbgrader": {
     "cell_type": "markdown",
     "checksum": "4bf1792def96077b38161f120b7fe3e2",
     "grade": true,
     "grade_id": "AI-LLM_statement",
     "locked": false,
     "points": 0,
     "schema_version": 3,
     "solution": true,
     "task": false
    },
    "tags": []
   },
   "source": [
    "YOUR ANSWER HERE"
   ]
  },
  {
   "cell_type": "markdown",
   "id": "5ecfda06",
   "metadata": {
    "deletable": false,
    "editable": false,
    "nbgrader": {
     "cell_type": "markdown",
     "checksum": "bee25f383c379ed9f1276c0521c36611",
     "grade": false,
     "grade_id": "cell-c155c19f3be5f57e",
     "locked": true,
     "schema_version": 3,
     "solution": false,
     "task": false
    }
   },
   "source": [
    "## Problem 0: Mid-term course feedback (0 points)\n",
    "\n",
    "Before starting this week's exercise, please take five minutes to share your thoughts about the course using the mid-term feedback form linked below. This feedback is very valuable for the future development of the course, and may even result in changes that can still be made in the coming weeks :D.\n",
    "\n",
    "- Mid-term feedback form link: <https://elomake.helsinki.fi/lomakkeet/126815/lomake.html>"
   ]
  },
  {
   "cell_type": "markdown",
   "id": "6dfd2b4a",
   "metadata": {
    "deletable": false,
    "editable": false,
    "nbgrader": {
     "cell_type": "markdown",
     "checksum": "1a2c9aec544aabb96c702177605ae086",
     "grade": false,
     "grade_id": "cell-48781f0cb77aa342",
     "locked": true,
     "schema_version": 3,
     "solution": false,
     "task": false
    }
   },
   "source": [
    "## Problem 1: Steady-state advection and diffusion (9 points)\n",
    "\n",
    "Many equations involving a time term (e.g., $\\frac{\\partial T}{\\partial t}$) can be solved for two different cases:\n",
    "\n",
    "- **Steady state** $\\left(\\frac{\\partial T}{\\partial t} = 0\\right)$: The solution that does not depend on time. This can be thought of as the solution that would be calculated after an infinite amount of time, or in which additional time would not change the solution. Time will not be part of the equation for calculating a solution in this case.\n",
    "- **Time-dependent** $\\left(\\frac{\\partial T}{\\partial t} \\ne 0\\right)$: In this case the solution will contain a time term, and thus the solution will likely change as a function of time (it is possible that some time-dependent problems will reach a steady state after a long time). In other words, less or more time will generally (but not always) change the calculated result.\n",
    "\n",
    "For simplicity, we will first consider heat transfer in the steady-state case. Thus, we will only calculate a \"final\" geotherm.\n",
    "\n",
    "The derivation of the equation for calculating the steady-state geotherm for a constant temperature gradient at the surface can be found in the [lesson materials for Lesson 4](https://introqg-site.readthedocs.io/en/latest/lessons/L4/solving-advection.html). Please read through the details there to see how the advection and diffusion equations are combined and how the temperature equation is derived. As you will see, there are one or two boundary condition values needed to solve the heat transfer equation, depending on what you assume. In this case, the boundary conditions that are used are:\n",
    "\n",
    "- A constant surface temperature of 0 °C\n",
    "- A constant thermal gradient at the surface\n",
    "\n",
    "The equation we will be using for our temperature $T$ calculation and the boundary conditions above is\n",
    "\n",
    "$$\n",
    "\\large\n",
    "T(z) = \\frac{g \\kappa}{v_{z}}\\left(1 - \\mathrm{e}^{-(v_{z} z/\\kappa)} \\right)\n",
    "$$\n",
    "*Equation 1. The steady-state heat transfer equation with a constant geothermal gradient at the surface.*\n",
    "\n",
    "where $g$ is the geothermal gradient at the surface, $\\kappa$ is the thermal diffusivity, $v_{z}$ is the advection velocity, and $z$ is the spatial coordinate (depth in this case).\n",
    "\n",
    "In the following cells we will create a function for calculating temperatures using this equation and see how it works.\n",
    "\n",
    "### Scores for this problem\n",
    "\n",
    "**Your score on this problem will be based on following criteria**:\n",
    "\n",
    "- Creating a new function for calculating steady-state crustal temperatures\n",
    "- Calculating crustal geotherms for different scenarios\n",
    "- Plotting your results to display how the temperatures vary\n",
    "- Including comments that explain what most lines in the code do\n",
    "- Uploading your notebook to your GitHub repository for this week's exercise"
   ]
  },
  {
   "cell_type": "markdown",
   "id": "5858cdef",
   "metadata": {
    "deletable": false,
    "editable": false,
    "nbgrader": {
     "cell_type": "markdown",
     "checksum": "cafdd56a4100bd199ac4d8fb692c8985",
     "grade": false,
     "grade_id": "cell-6203548922ac4f2e",
     "locked": true,
     "schema_version": 3,
     "solution": false,
     "task": false
    }
   },
   "source": [
    "### Part 0: Copying and testing your script file from Exercise 3 (0 points)\n",
    "\n",
    "The first task in this problem is to copy your `introqg_functions.py` script file from Exercise 3 to the directory containing this notebook and then run the cell below to ensure it has been copied and is functioning as expected. Note: We will only check some of the functions in this file using the tests below, not all of them.\n",
    "\n",
    "- Copy your `introqg_functions.py` script file from Exercise 3 to the directory containing this notebook\n",
    "- Run the tests below"
   ]
  },
  {
   "cell_type": "code",
   "execution_count": null,
   "id": "58c830ab",
   "metadata": {
    "deletable": false,
    "editable": false,
    "nbgrader": {
     "cell_type": "code",
     "checksum": "6e7c1ef01b6f928443434295f5bb53c5",
     "grade": false,
     "grade_id": "cell-1587c7394e856e70",
     "locked": true,
     "schema_version": 3,
     "solution": false,
     "task": false
    }
   },
   "outputs": [],
   "source": [
    "# The test below should work\n",
    "\n",
    "from nose.tools import assert_equal\n",
    "from introqg_functions import dodson\n",
    "\n",
    "# Calculate some closure temperatures using Dodson's method\n",
    "tc1 = dodson(\n",
    "    cooling_rate=-2.0,\n",
    "    activation_energy=138.0e3,\n",
    "    diffusivity_inf=5.0e-3,\n",
    "    grain_radius=100.0,\n",
    "    geometry_factor=25\n",
    ")\n",
    "tc2 = dodson(\n",
    "    cooling_rate=-15.0,\n",
    "    activation_energy=168.0e3,\n",
    "    diffusivity_inf=4.6e-5,\n",
    "    grain_radius=100.0,\n",
    "    geometry_factor=25\n",
    ")\n",
    "tc3 = dodson(\n",
    "    cooling_rate=-5.0,\n",
    "    activation_energy=264.0e3,\n",
    "    diffusivity_inf=2.3e-4,\n",
    "    grain_radius=500.0,\n",
    "    geometry_factor=27\n",
    ")\n",
    "\n",
    "# Print calculated closure temperature\n",
    "print(f\"Calculated apatite (U-Th)/He closure temperature: {tc1:7.3f} °C\")\n",
    "print(f\"Calculated zircon (U-Th)/He closure temperature:  {tc2:7.3f} °C\")\n",
    "print(f\"Calculated muscovite Ar/Ar closure temperature:   {tc3:7.3f} °C\")\n",
    "\n",
    "# Check that the closure temperature values are correct\n",
    "assert_equal(round(tc1, 3), 67.839)\n",
    "assert_equal(round(tc2, 3), 202.924)\n",
    "assert_equal(round(tc3, 3), 474.661)\n",
    "\n",
    "# Print message if it is safe to continue\n",
    "print(\"\\nAll tests pass! You are ready to proceed with this exercise.\")"
   ]
  },
  {
   "cell_type": "markdown",
   "id": "a2ff7702",
   "metadata": {
    "deletable": false,
    "editable": false,
    "nbgrader": {
     "cell_type": "markdown",
     "checksum": "4fcd8d839f7b822042aa8613a39ad936",
     "grade": false,
     "grade_id": "cell-1cc3d27f5f506c20",
     "locked": true,
     "schema_version": 3,
     "solution": false,
     "task": false
    }
   },
   "source": [
    "### Part 1: Creating a steady-state geotherm function (3 points)\n",
    "\n",
    "In order to proceed to exploring how the steady-state geotherm equation above works we first need to create a function to calculate temperatures. The new function should be called `steady_state_temp()` and it should calculate temperatures using Equation 1 above.\n",
    "\n",
    "In the function, you will pass in the following values, and you should use the same name for the parameters in your `steady_state_temp()` function:\n",
    "\n",
    "- `gradient` (units: °C / km)\n",
    "- `diffusivity` (units: km<sup>2</sup> / Myr)\n",
    "- `velocity` (units: km / Myr)\n",
    "- `depths` (units: km)\n",
    "\n",
    "**NOTE**: There is no need to convert units from the units listed above in your function. Distances in kilometers and time in millions of years (Myr) will work without conversion.\n",
    "\n",
    "**What to do for this part:**\n",
    "\n",
    "- Create a function called `steady_state_temp()` in your `introqg_functions.py` script file\n",
    "    - Your function parameters should be `gradient`, `diffusivity`, `velocity`, and `depths` as described above"
   ]
  },
  {
   "cell_type": "code",
   "execution_count": null,
   "id": "569679dc",
   "metadata": {
    "deletable": false,
    "nbgrader": {
     "cell_type": "code",
     "checksum": "0f2840b562905fa84b1fc7d7799e43a2",
     "grade": false,
     "grade_id": "problem_1_ag_p1_function",
     "locked": false,
     "schema_version": 3,
     "solution": true,
     "task": false
    }
   },
   "outputs": [],
   "source": [
    "# Import your steady_state_temp function below\n",
    "\n",
    "# YOUR CODE HERE\n",
    "raise NotImplementedError()"
   ]
  },
  {
   "cell_type": "code",
   "execution_count": null,
   "id": "a117fff4",
   "metadata": {
    "deletable": false,
    "editable": false,
    "nbgrader": {
     "cell_type": "code",
     "checksum": "67b80e5f627442bddbc1fabc4d929623",
     "grade": true,
     "grade_id": "problem_1_ag_p1_function_test1",
     "locked": true,
     "points": 1,
     "schema_version": 3,
     "solution": false,
     "task": false
    }
   },
   "outputs": [],
   "source": [
    "# The test below should work\n",
    "\n",
    "# Import libraries we need\n",
    "import numpy as np\n",
    "from nose.tools import assert_equal\n",
    "from introqg_functions import steady_state_temp\n",
    "\n",
    "# Define range of depths to use\n",
    "depth_array = np.linspace(0.0, 50.0, 51)\n",
    "\n",
    "# Calculate temperatures using the steady_state_temp function\n",
    "temperatures = steady_state_temp(\n",
    "    gradient=20.0,\n",
    "    diffusivity=32.0,\n",
    "    velocity=1.0,\n",
    "    depths=depth_array\n",
    ")\n",
    "\n",
    "# Print test temperature value\n",
    "test_index1 = 10\n",
    "print(f\"Temperature at {depth_array[test_index1]} km depth: {temperatures[test_index1]:.3f} °C\")\n",
    "\n",
    "# Check that the temperature value is correct\n",
    "assert_equal(round(temperatures[test_index1], 3), 171.766)"
   ]
  },
  {
   "cell_type": "code",
   "execution_count": null,
   "id": "34dfe649",
   "metadata": {
    "deletable": false,
    "editable": false,
    "nbgrader": {
     "cell_type": "code",
     "checksum": "c4bb6c236071523e844c531faa0d8d00",
     "grade": true,
     "grade_id": "problem_1_ag_p1_function_test2",
     "locked": true,
     "points": 1,
     "schema_version": 3,
     "solution": false,
     "task": false
    }
   },
   "outputs": [],
   "source": [
    "# The test below should work\n",
    "\n",
    "# Print test temperature value\n",
    "test_index2 = 23\n",
    "print(f\"Temperature at {depth_array[test_index2]} km depth: {temperatures[test_index2]:.3f} °C\")\n",
    "\n",
    "# Check that the temperature value is correct\n",
    "assert_equal(round(temperatures[test_index2], 3), 328.089)"
   ]
  },
  {
   "cell_type": "code",
   "execution_count": null,
   "id": "6d310b69",
   "metadata": {
    "deletable": false,
    "editable": false,
    "nbgrader": {
     "cell_type": "code",
     "checksum": "e3f9e5417dd72d74058bc13944fe7fea",
     "grade": true,
     "grade_id": "problem_1_ag_p1_function_test3",
     "locked": true,
     "points": 1,
     "schema_version": 3,
     "solution": false,
     "task": false
    }
   },
   "outputs": [],
   "source": [
    "# The test below should work\n",
    "\n",
    "# Define the new range of depths to use\n",
    "depth_array = np.linspace(0.0, 40.0, 41)\n",
    "\n",
    "# Calculate new temperatures using the steady_state_temp function\n",
    "temperatures = steady_state_temp(\n",
    "    gradient=20.0,\n",
    "    diffusivity=32.0,\n",
    "    velocity=0.5,\n",
    "    depths=depth_array\n",
    ")\n",
    "\n",
    "# Print test temperature value\n",
    "test_index3 = 40\n",
    "print(f\"Temperature at {depth_array[test_index3]} km depth: {temperatures[test_index3]:.3f} °C\")\n",
    "\n",
    "# Check that the temperature value is correct\n",
    "assert_equal(round(temperatures[test_index3], 3), 594.865)"
   ]
  },
  {
   "cell_type": "markdown",
   "id": "632ac260",
   "metadata": {
    "deletable": false,
    "editable": false,
    "nbgrader": {
     "cell_type": "markdown",
     "checksum": "320c91c08ba43a34ab192870e232e791",
     "grade": false,
     "grade_id": "cell-f781f71468f350f7",
     "locked": true,
     "schema_version": 3,
     "solution": false,
     "task": false
    }
   },
   "source": [
    "### Part 2: Calculating a geotherm (1 point)\n",
    "\n",
    "Now that your `steady_state_temp` function is working, we can calcuate a first geotherm.\n",
    "\n",
    "- Calculate the geotherm as the variable `geotherm1` using the following values:\n",
    "\n",
    "    - A temperature gradient of 20.0 °C / km\n",
    "    - A thermal diffusivity of 32.0 km$^{2}$ / Myr\n",
    "    - An advection velocity of 0.75 km / Myr\n",
    "    - A range of depth values from 0.0 to 40.0 in 81 steps"
   ]
  },
  {
   "cell_type": "code",
   "execution_count": null,
   "id": "ecc14a51",
   "metadata": {
    "deletable": false,
    "nbgrader": {
     "cell_type": "code",
     "checksum": "cd34867b5ab5408ce45969aa9fa96922",
     "grade": false,
     "grade_id": "problem_1_ag_p2_geotherm",
     "locked": false,
     "schema_version": 3,
     "solution": true,
     "task": false
    }
   },
   "outputs": [],
   "source": [
    "# Calculate your geotherm using your steady_state_temp function below\n",
    "\n",
    "geotherm1 = None\n",
    "\n",
    "# YOUR CODE HERE\n",
    "raise NotImplementedError()"
   ]
  },
  {
   "cell_type": "code",
   "execution_count": null,
   "id": "d513be4f",
   "metadata": {
    "deletable": false,
    "editable": false,
    "nbgrader": {
     "cell_type": "code",
     "checksum": "c2f9c14ae6c14583b60f996e086c797a",
     "grade": true,
     "grade_id": "problem_1_ag_p2_geotherm_test1",
     "locked": true,
     "points": 1,
     "schema_version": 3,
     "solution": false,
     "task": false
    }
   },
   "outputs": [],
   "source": [
    "# The test below should work\n",
    "\n",
    "# Print test temperature value\n",
    "test_index1 = 9\n",
    "test_index2 = 73\n",
    "print(f\"Temperature at index {test_index1:2} is {geotherm1[test_index1]:7.3f} °C. Expected value:  85.416 °C.\")\n",
    "print(f\"Temperature at index {test_index2:2} is {geotherm1[test_index2]:7.3f} °C. Expected value: 490.595 °C.\")\n"
   ]
  },
  {
   "cell_type": "markdown",
   "id": "56155d4b",
   "metadata": {
    "deletable": false,
    "editable": false,
    "nbgrader": {
     "cell_type": "markdown",
     "checksum": "3220c4565591985385b569a836d6b162",
     "grade": false,
     "grade_id": "cell-cc0be4f5b6ba315b",
     "locked": true,
     "schema_version": 3,
     "solution": false,
     "task": false
    }
   },
   "source": [
    "### Part 3: Plotting the geotherm (2 points)\n",
    "\n",
    "Here we can create a plot of the geotherm calculated above.\n",
    "\n",
    "- Using Matplotlib, create a line plot with temperature on the x-axis and depth on the y-axis\n",
    "    - You can create the figure and plots using `fig, ax = plt.subplots(1, 1, figsize=(8, 6))`, which will create a figure with a single set of plot axes and a size of 8 inches wide by 6 inches tall\n",
    "- Use the `ax.set_ylim()` function to ensure that depth increases downwards as it does in the Earth\n",
    "    - *Hint*: The `ymin` and `ymax` values can be reversed to invert the y-axis\n",
    "- Be sure to include axis labels and a title\n",
    "- Also add a figure caption in the Markdown cell below the plot that describes it as if it was in a scientific journal article"
   ]
  },
  {
   "cell_type": "code",
   "execution_count": null,
   "id": "3caf3dd9",
   "metadata": {
    "deletable": false,
    "nbgrader": {
     "cell_type": "code",
     "checksum": "23cced86f157c26421fea2ef99efb701",
     "grade": true,
     "grade_id": "problem_1_mg_p3_plot",
     "locked": false,
     "points": 1.5,
     "schema_version": 3,
     "solution": true,
     "task": false
    }
   },
   "outputs": [],
   "source": [
    "import matplotlib.pyplot as plt\n",
    "\n",
    "# Create your plot below\n",
    "\n",
    "# YOUR CODE HERE\n",
    "raise NotImplementedError()"
   ]
  },
  {
   "cell_type": "markdown",
   "id": "0b618742",
   "metadata": {
    "deletable": false,
    "nbgrader": {
     "cell_type": "markdown",
     "checksum": "8c4b10f52e16759cb9bb59fa72583e50",
     "grade": true,
     "grade_id": "problem_1_mg_p3_plot_caption",
     "locked": false,
     "points": 0.5,
     "schema_version": 3,
     "solution": true,
     "task": false
    }
   },
   "source": [
    "YOUR ANSWER HERE"
   ]
  },
  {
   "cell_type": "markdown",
   "id": "67d1f2dc",
   "metadata": {
    "deletable": false,
    "editable": false,
    "nbgrader": {
     "cell_type": "markdown",
     "checksum": "74b5879254b980c03903d536818b1ca7",
     "grade": false,
     "grade_id": "cell-31890943f013f90a",
     "locked": true,
     "schema_version": 3,
     "solution": false,
     "task": false
    }
   },
   "source": [
    "### Part 4: Calculating and plotting another geotherm (3 points)\n",
    "\n",
    "We can now repeat the steps in Part 2 and Part 3 to calculate and plot another geotherm.\n",
    "\n",
    "**New geotherm**\n",
    "\n",
    "- Calculate the geotherm as the variable `geotherm2` using the following values:\n",
    "\n",
    "    - A temperature gradient of 20.0 °C / km\n",
    "    - A thermal diffusivity of 32.0 km$^{2}$ / Myr\n",
    "    - An advection velocity of 1.5 km / Myr\n",
    "    - A range of depth values from 0.0 to 40.0 in 81 steps\n",
    "\n",
    "**Plot**\n",
    "\n",
    "- Using Matplotlib, create a line plot with the temperatures for `geotherm1` and `geotherm2` on the x-axis, and depth on the y-axis\n",
    "    - You can create the figure and plots using `fig, ax = plt.subplots(1, 1, figsize=(8, 6))`, which will create a figure with a single set of plot axes and a size of 8 inches wide by 6 inches tall\n",
    "- Use the `ax.set_ylim()` function to ensure that depth increases downwards as it does in the Earth\n",
    "    - *Hint*: The `ymin` and `ymax` values can be reversed to invert the y-axis\n",
    "- You should use the `label` parameter in the plot function to give the lines a label for the legend\n",
    "- Be sure to display the legend, and include axis labels and a title\n",
    "- Also add a figure caption in the Markdown cell below the plot that describes it as if it was in a scientific journal article"
   ]
  },
  {
   "cell_type": "code",
   "execution_count": null,
   "id": "c0fa1504",
   "metadata": {
    "deletable": false,
    "nbgrader": {
     "cell_type": "code",
     "checksum": "7482d780e21474f1e19fe08e497a0a86",
     "grade": false,
     "grade_id": "problem_1_ag_p4_geotherm",
     "locked": false,
     "schema_version": 3,
     "solution": true,
     "task": false
    }
   },
   "outputs": [],
   "source": [
    "# Calculate your geotherm using your steady_state_temp function below\n",
    "\n",
    "geotherm2 = None\n",
    "\n",
    "# YOUR CODE HERE\n",
    "raise NotImplementedError()"
   ]
  },
  {
   "cell_type": "code",
   "execution_count": null,
   "id": "b9a84f2b",
   "metadata": {
    "deletable": false,
    "editable": false,
    "nbgrader": {
     "cell_type": "code",
     "checksum": "d4b4d8ace9ae35d384b5020ff5bb8d72",
     "grade": true,
     "grade_id": "problem_1_ag_p4_geotherm_test1",
     "locked": true,
     "points": 1,
     "schema_version": 3,
     "solution": false,
     "task": false
    }
   },
   "outputs": [],
   "source": [
    "# The test below should work\n",
    "\n",
    "# Print test temperature value\n",
    "test_index1 = 9\n",
    "test_index2 = 73\n",
    "print(f\"Temperature at index {test_index1:2} is {geotherm2[test_index1]:7.3f} °C. Expected value:  81.141 °C.\")\n",
    "print(f\"Temperature at index {test_index2:2} is {geotherm2[test_index2]:7.3f} °C. Expected value: 349.570 °C.\")\n"
   ]
  },
  {
   "cell_type": "code",
   "execution_count": null,
   "id": "c285da88",
   "metadata": {
    "deletable": false,
    "nbgrader": {
     "cell_type": "code",
     "checksum": "3ee82f64ea7746a88c186d23c7fcb127",
     "grade": true,
     "grade_id": "cell-e5problem_1_mg_p4_plot",
     "locked": false,
     "points": 1.5,
     "schema_version": 3,
     "solution": true,
     "task": false
    }
   },
   "outputs": [],
   "source": [
    "import matplotlib.pyplot as plt\n",
    "\n",
    "# Create your plot below\n",
    "\n",
    "# YOUR CODE HERE\n",
    "raise NotImplementedError()"
   ]
  },
  {
   "cell_type": "markdown",
   "id": "5fd896ce",
   "metadata": {
    "deletable": false,
    "nbgrader": {
     "cell_type": "markdown",
     "checksum": "acf502513a16a65075dce2183d07c0b5",
     "grade": true,
     "grade_id": "cell-e5problem_1_mg_p4_caption",
     "locked": false,
     "points": 0.5,
     "schema_version": 3,
     "solution": true,
     "task": false
    }
   },
   "source": [
    "YOUR ANSWER HERE"
   ]
  },
  {
   "cell_type": "markdown",
   "id": "ce5776e1",
   "metadata": {
    "deletable": false,
    "editable": false,
    "nbgrader": {
     "cell_type": "markdown",
     "checksum": "e7b3e06f4549775227f5701d3309630f",
     "grade": false,
     "grade_id": "cell-7e162cea305be5cb",
     "locked": true,
     "schema_version": 3,
     "solution": false,
     "task": false
    }
   },
   "source": [
    "## Problem 2: Time-dependent advection and diffusion (11 points)\n",
    "\n",
    "In the second half of this exercise we will explore how temperatures in the crust vary with time. In this case, we solve the [same starting equation as in Problem 1](https://introqg-site.readthedocs.io/en/latest/lessons/L4/solving-advection.html), but include the time-dependent term $\\frac{\\partial T}{\\partial t}$. This results in a more complicated solution for the temperature as shown below in Equation 2. The key differences between this new case and the steady-state solution are:\n",
    "\n",
    "- Inclusion of time in the temperature calculation\n",
    "- A starting temperature field that has a constant thermal gradient\n",
    "- No boundary condition fixing the surface geothermal gradient to a constant value\n",
    "\n",
    "These differences will result in some slightly different results than seen in Problem 1, which we will revisit in the reflection questions.\n",
    "\n",
    "We will not go through the derivation of the equation used for calculating crustal temperature as a function of time, but you can find that equation below.\n",
    "\n",
    "$$\n",
    "\\large\n",
    "T(z,t) = G(z + v_{z} t) + \\frac{G}{2} \\left[ (z - v_{z} t) \\mathrm{e}^{-v_{z} z / \\kappa} \\mathrm{erfc} \\left( \\frac{z - v_{z}t}{2 \\sqrt{\\kappa t}} \\right) - (z + v_{z} t) \\mathrm{erfc} \\left( \\frac{z + v_{z}t}{2 \\sqrt{\\kappa t}} \\right) \\right]\n",
    "$$\n",
    "*Equation 2. 1D time-dependent heat advection-diffusion equation.*\n",
    "\n",
    "where $G$ is the initial geothermal gradient, $z$ is the spatial coordinate (depth in this case), $v_{z}$ is the advection velocity, $t$ is time, $\\kappa$ is the thermal diffusivity, and $\\mathrm{erfc}$ is the complementary error function. As you can already see, including time results in a much more complicated equation for temperature.\n",
    "\n",
    "In the following cells we will create a function for calculating temperatures using this equation and see how it works.\n",
    "\n",
    "### Scores for this problem\n",
    "\n",
    "**Your score on this problem will be based on following criteria**:\n",
    "\n",
    "- Creating a new function for calculating time-dependent crustal temperatures\n",
    "- Calculating crustal geotherms for different scenarios\n",
    "- Plotting your results to display how the temperatures vary\n",
    "- Including comments that explain what most lines in the code do\n",
    "- Uploading your notebook to your GitHub repository for this week's exercise"
   ]
  },
  {
   "cell_type": "markdown",
   "id": "c3671c06",
   "metadata": {
    "deletable": false,
    "editable": false,
    "nbgrader": {
     "cell_type": "markdown",
     "checksum": "01583403939888cc48d9c70a7920f1dd",
     "grade": false,
     "grade_id": "cell-21a67dfcd61822aa",
     "locked": true,
     "schema_version": 3,
     "solution": false,
     "task": false
    }
   },
   "source": [
    "### Part 1: Creating a time-dependent geotherm function (3 points)\n",
    "\n",
    "As was the case in Problem 1, we need to first create a function to calculate temperatures in order to investigate how Equation 2 works. In this case, the new function should be called `transient_temp()` and it should calculate  temperatures using Equation 2 above. Transient is the word that is often used to indicate something is changing with time, such as temperature in our case.\n",
    "\n",
    "In the function, you will pass in the following values, and you should use the same name for the parameters in your `transient_temp()` function:\n",
    "\n",
    "- `initial_gradient` (units: °C / km)\n",
    "- `diffusivity` (units: km<sup>2</sup> / Myr)\n",
    "- `velocity` (units: km / Myr)\n",
    "- `depths` (units: km)\n",
    "- `time` (units: Myr)\n",
    "\n",
    "**Hints**\n",
    "\n",
    "1. You will need to import the `erfc` function at the start of your `introqg_functions.py` script file. You can add a line that reads `from scipy.special import erfc`.\n",
    "2. Again, you do not need to convert units to SI units in your function. You can pass values with the units listed above.\n",
    "\n",
    "**What to do for this part:**\n",
    "\n",
    "- Create a function called `transient_temp()` in your `introqg_functions.py` script file\n",
    "    - Your function parameters should be `gradient`, `diffusivity`, `velocity`, `depths`, and `time` as described above"
   ]
  },
  {
   "cell_type": "code",
   "execution_count": null,
   "id": "0e316c57",
   "metadata": {
    "deletable": false,
    "nbgrader": {
     "cell_type": "code",
     "checksum": "12ca0d9dadfc2f07047860d21016432d",
     "grade": false,
     "grade_id": "problem_2_ag_p1_function",
     "locked": false,
     "schema_version": 3,
     "solution": true,
     "task": false
    }
   },
   "outputs": [],
   "source": [
    "# Import your transient_temp function below\n",
    "\n",
    "# YOUR CODE HERE\n",
    "raise NotImplementedError()"
   ]
  },
  {
   "cell_type": "code",
   "execution_count": null,
   "id": "d99aac96",
   "metadata": {
    "deletable": false,
    "editable": false,
    "nbgrader": {
     "cell_type": "code",
     "checksum": "95d6d0a30091a8f3cf6e8b3ce92b87d4",
     "grade": true,
     "grade_id": "problem_2_ag_p1_function_test1",
     "locked": true,
     "points": 1,
     "schema_version": 3,
     "solution": false,
     "task": false
    }
   },
   "outputs": [],
   "source": [
    "# The test below should work\n",
    "\n",
    "# Import libraries we need\n",
    "import numpy as np\n",
    "from nose.tools import assert_equal\n",
    "from introqg_functions import transient_temp\n",
    "\n",
    "# Define range of depths to use\n",
    "depth_array = np.linspace(0.0, 50.0, 51)\n",
    "\n",
    "# Define test time\n",
    "test_time1 = 10.0\n",
    "\n",
    "# Calculate temperatures using the steady_state_temp function\n",
    "temperatures = transient_temp(\n",
    "    initial_gradient=20.0,\n",
    "    diffusivity=32.0,\n",
    "    velocity=1.0,\n",
    "    depths=depth_array,\n",
    "    time=test_time1\n",
    ")\n",
    "\n",
    "# Print test temperature value\n",
    "test_index1 = 10\n",
    "print(f\"Temperature at {depth_array[test_index1]} km depth after {test_time1} Myr: {temperatures[test_index1]:.3f} °C\")\n",
    "\n",
    "# Check that the temperature value is correct\n",
    "assert_equal(round(temperatures[test_index1], 3), 314.161)"
   ]
  },
  {
   "cell_type": "code",
   "execution_count": null,
   "id": "44878b3d",
   "metadata": {
    "deletable": false,
    "editable": false,
    "nbgrader": {
     "cell_type": "code",
     "checksum": "67ff592a40af49fb0b55cb5a4cc93cf3",
     "grade": true,
     "grade_id": "problem_2_ag_p1_function_test2",
     "locked": true,
     "points": 1,
     "schema_version": 3,
     "solution": false,
     "task": false
    }
   },
   "outputs": [],
   "source": [
    "# The test below should work\n",
    "\n",
    "# Print test temperature value\n",
    "test_index2 = 37\n",
    "print(f\"Temperature at {depth_array[test_index2]} km depth after {test_time1} Myr: {temperatures[test_index2]:.3f} °C\")\n",
    "\n",
    "# Check that the temperature value is correct\n",
    "assert_equal(round(temperatures[test_index2], 3), 934.585)"
   ]
  },
  {
   "cell_type": "code",
   "execution_count": null,
   "id": "c07a6400",
   "metadata": {
    "deletable": false,
    "editable": false,
    "nbgrader": {
     "cell_type": "code",
     "checksum": "908a54d185be858ab374aa978dcebcc2",
     "grade": true,
     "grade_id": "problem_2_ag_p1_function_test3",
     "locked": true,
     "points": 1,
     "schema_version": 3,
     "solution": false,
     "task": false
    }
   },
   "outputs": [],
   "source": [
    "# The test below should work\n",
    "\n",
    "# Define new test time\n",
    "test_time2 = 5.0\n",
    "\n",
    "# Calculate temperatures using the steady_state_temp function\n",
    "temperatures = transient_temp(\n",
    "    initial_gradient=20.0,\n",
    "    diffusivity=32.0,\n",
    "    velocity=0.5,\n",
    "    depths=depth_array,\n",
    "    time=test_time2\n",
    ")\n",
    "\n",
    "# Print test temperature value\n",
    "test_index3 = 23\n",
    "print(f\"Temperature at {depth_array[test_index3]} km depth after {test_time2} Myr: {temperatures[test_index3]:.3f} °C\")\n",
    "\n",
    "# Check that the temperature value is correct\n",
    "assert_equal(round(temperatures[test_index3], 3), 506.762)"
   ]
  },
  {
   "cell_type": "markdown",
   "id": "a31395da",
   "metadata": {
    "deletable": false,
    "editable": false,
    "nbgrader": {
     "cell_type": "markdown",
     "checksum": "14ed1a3b30d60aae7a2b415ff6397e1b",
     "grade": false,
     "grade_id": "cell-929eb3b12c9b0a7a",
     "locked": true,
     "schema_version": 3,
     "solution": false,
     "task": false
    }
   },
   "source": [
    "### Part 2: Calculating a geotherm (1 point)\n",
    "\n",
    "Now that your `transient_temp` function is working, we can calcuate a time-dependent geotherm using it.\n",
    "\n",
    "- Calculate the geotherm as the variable `geotherm3` using the following values:\n",
    "\n",
    "    - An initial temperature gradient of 20.0 °C / km\n",
    "    - A thermal diffusivity of 32.0 km$^{2}$ / Myr\n",
    "    - An advection velocity of 0.75 km / Myr\n",
    "    - A range of depth values from 0.0 to 40.0 in 81 steps\n",
    "    - A time of 10.0 Myr"
   ]
  },
  {
   "cell_type": "code",
   "execution_count": null,
   "id": "9c65adb1",
   "metadata": {
    "deletable": false,
    "nbgrader": {
     "cell_type": "code",
     "checksum": "4dc337c1f15357e9c6fc653e66a48453",
     "grade": false,
     "grade_id": "problem_2_ag_p2_geotherm",
     "locked": false,
     "schema_version": 3,
     "solution": true,
     "task": false
    }
   },
   "outputs": [],
   "source": [
    "# Calculate your geotherm using your steady_state_temp function below\n",
    "\n",
    "geotherm3 = None\n",
    "\n",
    "# YOUR CODE HERE\n",
    "raise NotImplementedError()"
   ]
  },
  {
   "cell_type": "code",
   "execution_count": null,
   "id": "deefd82b",
   "metadata": {
    "deletable": false,
    "editable": false,
    "nbgrader": {
     "cell_type": "code",
     "checksum": "5daa0214b166cbd3c6fd218ce82bccbb",
     "grade": true,
     "grade_id": "problem_2_ag_p2_geotherm_test1",
     "locked": true,
     "points": 1,
     "schema_version": 3,
     "solution": false,
     "task": false
    }
   },
   "outputs": [],
   "source": [
    "# The test below should work\n",
    "\n",
    "# Print test temperature value\n",
    "test_index1 = 9\n",
    "test_index2 = 73\n",
    "print(f\"Temperature at index {test_index1:2} is {geotherm3[test_index1]:7.3f} °C. Expected value: 134.224 °C.\")\n",
    "print(f\"Temperature at index {test_index2:2} is {geotherm3[test_index2]:7.3f} °C. Expected value: 874.948 °C.\")\n"
   ]
  },
  {
   "cell_type": "markdown",
   "id": "eca42b9e",
   "metadata": {
    "deletable": false,
    "editable": false,
    "nbgrader": {
     "cell_type": "markdown",
     "checksum": "9272f74cc0dfb3c70820be86d49f01d6",
     "grade": false,
     "grade_id": "cell-c2b1e1a8cc552bd8",
     "locked": true,
     "schema_version": 3,
     "solution": false,
     "task": false
    }
   },
   "source": [
    "### Part 3: Plotting the geotherm, again (2 points)\n",
    "\n",
    "Next we can create a plot of the transient geotherm calculated above.\n",
    "\n",
    "- Using Matplotlib, create a line plot with the temperature on the x-axis and depth on the y-axis\n",
    "    - You can create the figure and plots using `fig, ax = plt.subplots(1, 1, figsize=(8, 6))`, which will create a figure with a single set of plot axes and a size of 8 inches wide by 6 inches tall\n",
    "- Use the `ax.set_ylim()` function to ensure that depth increases downwards as it does in the Earth\n",
    "    - *Hint*: The `ymin` and `ymax` values can be reversed to invert the y-axis\n",
    "- Be sure to include axis labels and a title\n",
    "- Also add a figure caption in the Markdown cell below the plot that describes it as if it was in a scientific journal article"
   ]
  },
  {
   "cell_type": "code",
   "execution_count": null,
   "id": "053fa5a1",
   "metadata": {
    "deletable": false,
    "nbgrader": {
     "cell_type": "code",
     "checksum": "a971dd404df40609a06f5ff1504b20b9",
     "grade": true,
     "grade_id": "problem_2_mg_p3_plot",
     "locked": false,
     "points": 1.5,
     "schema_version": 3,
     "solution": true,
     "task": false
    }
   },
   "outputs": [],
   "source": [
    "import matplotlib.pyplot as plt\n",
    "\n",
    "# Create your plot below\n",
    "\n",
    "# YOUR CODE HERE\n",
    "raise NotImplementedError()"
   ]
  },
  {
   "cell_type": "markdown",
   "id": "ba0a3987",
   "metadata": {
    "deletable": false,
    "nbgrader": {
     "cell_type": "markdown",
     "checksum": "fb16e16d2752f865f8375136c8c8c7d9",
     "grade": true,
     "grade_id": "problem_2_mg_p3_caption",
     "locked": false,
     "points": 0.5,
     "schema_version": 3,
     "solution": true,
     "task": false
    }
   },
   "source": [
    "YOUR ANSWER HERE"
   ]
  },
  {
   "cell_type": "markdown",
   "id": "14433dc0",
   "metadata": {
    "deletable": false,
    "editable": false,
    "nbgrader": {
     "cell_type": "markdown",
     "checksum": "bb9f2c8f3d7b053e0d0517d318399d4e",
     "grade": false,
     "grade_id": "cell-7e0314db369129a7",
     "locked": true,
     "schema_version": 3,
     "solution": false,
     "task": false
    }
   },
   "source": [
    "### Part 4: Calculating and plotting another transient geotherm (3 points)\n",
    "\n",
    "We can now again repeat the steps in Part 2 and Part 3 of Problem 2 to calculate and plot another geotherm.\n",
    "\n",
    "**New geotherm**\n",
    "\n",
    "- Calculate the geotherm as the variable `geotherm4` using the following values:\n",
    "\n",
    "    - An initial temperature gradient of 20.0 °C / km\n",
    "    - A thermal diffusivity of 32.0 km$^{2}$ / Myr\n",
    "    - An advection velocity of 1.5 km / Myr\n",
    "    - A range of depth values from 0.0 to 40.0 in 81 steps\n",
    "    - A time of 10.0 Myr\n",
    "\n",
    "**Plot**\n",
    "\n",
    "- Using Matplotlib, create a line plot with the temperatures for `geotherm3` and `geotherm4` on the x-axis, and depth on the y-axis\n",
    "    - You can create the figure and plots using `fig, ax = plt.subplots(1, 1, figsize=(8, 6))`, which will create a figure with a single set of plot axes and a size of 8 inches wide by 6 inches tall\n",
    "- Use the `ax.set_ylim()` function to ensure that depth increases downwards as it does in the Earth\n",
    "    - *Hint*: The `ymin` and `ymax` values can be reversed to invert the y-axis\n",
    "- You should use the `label` parameter in the plot function to give the lines a label for the legend\n",
    "- Be sure to display the legend, and include axis labels and a title\n",
    "- Also add a figure caption in the Markdown cell below the plot that describes it as if it was in a scientific journal article"
   ]
  },
  {
   "cell_type": "code",
   "execution_count": null,
   "id": "018ada11",
   "metadata": {
    "deletable": false,
    "nbgrader": {
     "cell_type": "code",
     "checksum": "b29a00cce6fb9c3d2ce3211c63413440",
     "grade": false,
     "grade_id": "problem_2_ag_p4_geotherm",
     "locked": false,
     "schema_version": 3,
     "solution": true,
     "task": false
    }
   },
   "outputs": [],
   "source": [
    "# Calculate your geotherm using your steady_state_temp function below\n",
    "\n",
    "geotherm4 = None\n",
    "\n",
    "# YOUR CODE HERE\n",
    "raise NotImplementedError()"
   ]
  },
  {
   "cell_type": "code",
   "execution_count": null,
   "id": "d2bb57e4",
   "metadata": {
    "deletable": false,
    "editable": false,
    "nbgrader": {
     "cell_type": "code",
     "checksum": "aa242240ff68a8aa9535082e1855fb3c",
     "grade": true,
     "grade_id": "problem_2_ag_p4_geotherm_test1",
     "locked": true,
     "points": 1,
     "schema_version": 3,
     "solution": false,
     "task": false
    }
   },
   "outputs": [],
   "source": [
    "# The test below should work\n",
    "\n",
    "# Print test temperature value\n",
    "test_index1 = 9\n",
    "test_index2 = 73\n",
    "print(f\"Temperature at index {test_index1:2} is {geotherm4[test_index1]:8.3f} °C. Expected value:  191.637 °C.\")\n",
    "print(f\"Temperature at index {test_index2:2} is {geotherm4[test_index2]:8.3f} °C. Expected value: 1023.845 °C.\")\n"
   ]
  },
  {
   "cell_type": "code",
   "execution_count": null,
   "id": "719d94a7",
   "metadata": {
    "deletable": false,
    "nbgrader": {
     "cell_type": "code",
     "checksum": "40f029f33f2eca135c9043f80fd375c7",
     "grade": true,
     "grade_id": "problem_2_mg_p4_plot",
     "locked": false,
     "points": 1.5,
     "schema_version": 3,
     "solution": true,
     "task": false
    }
   },
   "outputs": [],
   "source": [
    "import matplotlib.pyplot as plt\n",
    "\n",
    "# Create your plot below\n",
    "\n",
    "# YOUR CODE HERE\n",
    "raise NotImplementedError()"
   ]
  },
  {
   "cell_type": "markdown",
   "id": "f089b976",
   "metadata": {
    "deletable": false,
    "nbgrader": {
     "cell_type": "markdown",
     "checksum": "892d723a110113ea5b3205c029815108",
     "grade": true,
     "grade_id": "problem_2_mg_p4_caption",
     "locked": false,
     "points": 0.5,
     "schema_version": 3,
     "solution": true,
     "task": false
    }
   },
   "source": [
    "YOUR ANSWER HERE"
   ]
  },
  {
   "cell_type": "markdown",
   "id": "f983b127",
   "metadata": {
    "deletable": false,
    "editable": false,
    "nbgrader": {
     "cell_type": "markdown",
     "checksum": "f11cf061df4edfdbb8d10328d9ad13cd",
     "grade": false,
     "grade_id": "cell-f5227aed8ccc4e47",
     "locked": true,
     "schema_version": 3,
     "solution": false,
     "task": false
    }
   },
   "source": [
    "### Part 5: One final plot (2 points)\n",
    "\n",
    "Lastly, we can now plot all four geotherms we have calculated up to this point to be able to compare them.\n",
    "\n",
    "- Using Matplotlib, create a line plot with the temperatures for `geotherm1`, `geotherm2`, `geotherm3`, and `geotherm4` on the x-axis, and depth on the y-axis\n",
    "    - You can create the figure and plots using `fig, ax = plt.subplots(1, 1, figsize=(8, 6))`, which will create a figure with a single set of plot axes and a size of 8 inches wide by 6 inches tall\n",
    "    - Use a dashed line pattern for `geotherm1` and `geotherm2`\n",
    "- Use the `ax.set_ylim()` function to ensure that depth increases downwards as it does in the Earth\n",
    "    - *Hint*: The `ymin` and `ymax` values can be reversed to invert the y-axis\n",
    "- You should use the `label` parameter in the plot function to give the lines a label for the legend\n",
    "    - Be sure the line labels provide enough information to tell which model and parameters were used to calculate the line temperatures\n",
    "- Be sure to display the legend, and include axis labels and a title\n",
    "- Also add a figure caption in the Markdown cell below the plot that describes it as if it was in a scientific journal article\n",
    "\n",
    "**NOTE**: You should to use the \"Kernel -> Restart & Run All\" option to ensure the correct values for each geotherm are stored in memory."
   ]
  },
  {
   "cell_type": "code",
   "execution_count": null,
   "id": "c9cb7cd3",
   "metadata": {
    "deletable": false,
    "nbgrader": {
     "cell_type": "code",
     "checksum": "c9f869e0d874acf06ef68bbffd9e2ffa",
     "grade": true,
     "grade_id": "problem_2_mg_p5_plot",
     "locked": false,
     "points": 1.5,
     "schema_version": 3,
     "solution": true,
     "task": false
    }
   },
   "outputs": [],
   "source": [
    "import matplotlib.pyplot as plt\n",
    "\n",
    "# Create your plot below\n",
    "\n",
    "# YOUR CODE HERE\n",
    "raise NotImplementedError()"
   ]
  },
  {
   "cell_type": "markdown",
   "id": "14f06d47",
   "metadata": {
    "deletable": false,
    "nbgrader": {
     "cell_type": "markdown",
     "checksum": "767aae9bd4e0111f260dc718dedcd358",
     "grade": true,
     "grade_id": "problem_2_mg_p5_caption",
     "locked": false,
     "points": 0.5,
     "schema_version": 3,
     "solution": true,
     "task": false
    }
   },
   "source": [
    "YOUR ANSWER HERE"
   ]
  },
  {
   "cell_type": "markdown",
   "id": "c015971b",
   "metadata": {
    "deletable": false,
    "editable": false,
    "nbgrader": {
     "cell_type": "markdown",
     "checksum": "c4f0cf808174ea5c173710673514597c",
     "grade": false,
     "grade_id": "cell-8b8f152af155ee0a",
     "locked": true,
     "schema_version": 3,
     "solution": false,
     "task": false
    }
   },
   "source": [
    "## Optional reflection questions (0 points)\n",
    "\n",
    "We invite you to consider the following questions. Please answer them briefly in the Markdown cell below.\n",
    "\n",
    "1. Is the difference between a steady-state and transient calculation clear? If not, what do you find to be confusing?\n",
    "2. Based on the lecture slides, how did you expect temperatures in the crust to change when the advection velocity was increased? What did you observe for the steady-state and transient cases?\n",
    "3. In the last figure (Figure 5) you see different behaviors for the steady-state and transient temperature calculations. This relates to the boundary conditions that are applied in solving both types of equation. How do you think the boundary conditions are impacting the calculated temperatures?"
   ]
  },
  {
   "cell_type": "markdown",
   "id": "56fe5cea",
   "metadata": {
    "deletable": false,
    "nbgrader": {
     "cell_type": "markdown",
     "checksum": "fce1891cf12cc11eee9e9e853c285d39",
     "grade": true,
     "grade_id": "problem_2_reflection_questions",
     "locked": false,
     "points": 0,
     "schema_version": 3,
     "solution": true,
     "task": false
    }
   },
   "source": [
    "YOUR ANSWER HERE"
   ]
  }
 ],
 "metadata": {
  "kernelspec": {
   "display_name": "Python 3 (ipykernel)",
   "language": "python",
   "name": "python3"
  },
  "language_info": {
   "codemirror_mode": {
    "name": "ipython",
    "version": 3
   },
   "file_extension": ".py",
   "mimetype": "text/x-python",
   "name": "python",
   "nbconvert_exporter": "python",
   "pygments_lexer": "ipython3",
   "version": "3.10.13"
  }
 },
 "nbformat": 4,
 "nbformat_minor": 5
}
