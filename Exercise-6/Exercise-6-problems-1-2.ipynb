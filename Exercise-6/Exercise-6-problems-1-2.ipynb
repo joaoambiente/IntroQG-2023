{
 "cells": [
  {
   "cell_type": "markdown",
   "id": "a521dcf4",
   "metadata": {
    "deletable": false,
    "editable": false,
    "nbgrader": {
     "cell_type": "markdown",
     "checksum": "830b86e4287a6abfba5e2be9b47204b0",
     "grade": false,
     "grade_id": "cell-6ed06aa8fcbcf8ac",
     "locked": true,
     "schema_version": 3,
     "solution": false,
     "task": false
    }
   },
   "source": [
    "# Exercise 6: Building a thermochronology model (20 points)\n",
    "\n",
    "This week we will combine some of the codes created earlier in the course to create a numerical model for predicting thermochronometer ages and comparing them to measured ages.\n",
    "\n",
    "### Tips for completing this exercise\n",
    "\n",
    "- Use **exactly** the same variable names as in the instructions because your answers will be automatically graded, and the tests that grade your answers rely on following the same formatting or variable naming as in the instructions.\n",
    "- **Please do not**:\n",
    "\n",
    "    - **Change the file names**. Do all of your editing in the provided `Exercise-6-problems-1-2.ipynb` file (this file).\n",
    "    - **Copy/paste cells in this notebook**. We use an automated grading system that will fail if there are copies of code cells.\n",
    "    - **Change the existing cell types**. You can add cells, but changing the cell types for existing cells (from code to markdown, for example) will also cause the automated grader to fail."
   ]
  },
  {
   "cell_type": "markdown",
   "id": "b48c7535-4d9f-4c1d-9dd6-4d7acafb91cb",
   "metadata": {
    "deletable": false,
    "editable": false,
    "nbgrader": {
     "cell_type": "markdown",
     "checksum": "af3355b9f7ca18ba96fce8f6b77ac540",
     "grade": false,
     "grade_id": "cell-1076f037ea81534b",
     "locked": true,
     "schema_version": 3,
     "solution": false,
     "task": false
    },
    "tags": [],
    "user_expressions": []
   },
   "source": [
    "## AI tool usage agreement\n",
    "\n",
    "**Enter your name in the cell below** to confirm that you have followed the [course guidelines on the use of AI tools](https://introqg-site.readthedocs.io/en/latest/general-info/ai-tools.html) and understand that misuse of AI tools is considered cheating."
   ]
  },
  {
   "cell_type": "markdown",
   "id": "e52867e0-4231-43bb-bf87-0d4a7524a979",
   "metadata": {
    "deletable": false,
    "nbgrader": {
     "cell_type": "markdown",
     "checksum": "4bf1792def96077b38161f120b7fe3e2",
     "grade": true,
     "grade_id": "AI-LLM_statement",
     "locked": false,
     "points": 0,
     "schema_version": 3,
     "solution": true,
     "task": false
    },
    "tags": [],
    "user_expressions": []
   },
   "source": [
    "YOUR ANSWER HERE"
   ]
  },
  {
   "cell_type": "markdown",
   "id": "588837e4",
   "metadata": {
    "deletable": false,
    "editable": false,
    "nbgrader": {
     "cell_type": "markdown",
     "checksum": "d72251048e4cec8b6a63a2903decf385",
     "grade": false,
     "grade_id": "cell-850ec4952da013df",
     "locked": true,
     "schema_version": 3,
     "solution": false,
     "task": false
    },
    "user_expressions": []
   },
   "source": [
    "## Problem 1: Filling in the missing pieces (14 points)\n",
    "\n",
    "The overall goal of this exercise is to create a model for calculating thermochronometer ages as a function of the advection velocity in a 1D thermal model in order to try to find the long-term exhumation rate that best fits a set of measured ages. We are going to assume that erosion balances any potential uplift of the Earth's surface such that the advection velocity in the thermal model will be equivalent to the long-term exhumation rate. An overview of how we can go about calculating thermochronometer ages from a thermal model is given below. Items in italics will be handled in Exercise 7.\n",
    "\n",
    "### Predicting (or calculating) thermochronometer ages from a thermal model\n",
    "\n",
    "1. Create a temperature history for a rock that has cooled during exhumation to the Earth's surface\n",
    "    1. Define a simulation duration and time-depth history\n",
    "    2. Calculate a temperature history for the rock\n",
    "        - We already have the model for calculating temperatures over time, so we just need to store the temperatures for each depth and time in the time-depth history (this is fairly easy)\n",
    "2. Use the temperature history to calculate the effective closure temperatures for different thermochronometers using Dodson's method\n",
    "3. Use the closure temperatures to calculate thermochronometer ages from the temperature history\n",
    "4. *Read in the measured age data*\n",
    "5. *Calculate a goodness of fit for each thermochronometer system*\n",
    "6. Calculate temperatures for the crust at the start and end of thermal model calculation (for plotting)\n",
    "7. Plot the results\n",
    "\n",
    "Overall, this might look scary, but I will again assure you we already have the pieces to do most of the difficult stuff in the list of tasks above.\n",
    "\n",
    "### Scores for this problem\n",
    "\n",
    "**Your score on this problem will be based on following criteria**:\n",
    "\n",
    "- Creating some new functions for calculating thermochronometer ages\n",
    "- Testing your functions\n",
    "- Creating a numerical model to calculate thermochronometer ages using your functions\n",
    "- Including comments that explain what most lines in the code do\n",
    "- Uploading your notebook to your GitHub repository for this week's exercise"
   ]
  },
  {
   "cell_type": "markdown",
   "id": "7bfe227c",
   "metadata": {
    "deletable": false,
    "editable": false,
    "nbgrader": {
     "cell_type": "markdown",
     "checksum": "fea288c5a549191eda961c5999d7c8dd",
     "grade": false,
     "grade_id": "cell-cfca219c3295729e",
     "locked": true,
     "schema_version": 3,
     "solution": false,
     "task": false
    }
   },
   "source": [
    "### Part 0: Copying and testing your script file from Exercise 5 (0 points)\n",
    "\n",
    "The first task in this problem is to copy your `introqg_functions.py` script file from Exercise 5 to the directory containing this notebook and then run the cell below to ensure it has been copied and is functioning as expected. Note: We will only check some of the functions in this file using the tests below, not all of them.\n",
    "\n",
    "- Copy your `introqg_functions.py` script file from Exercise 5 to the directory containing this notebook\n",
    "- Run the tests below"
   ]
  },
  {
   "cell_type": "code",
   "execution_count": null,
   "id": "1112c221",
   "metadata": {
    "deletable": false,
    "editable": false,
    "nbgrader": {
     "cell_type": "code",
     "checksum": "b1fe9e3af241b23e7bba0448471235f8",
     "grade": false,
     "grade_id": "cell-fe02a61a2089ed93",
     "locked": true,
     "schema_version": 3,
     "solution": false,
     "task": false
    }
   },
   "outputs": [],
   "source": [
    "# The test below should work\n",
    "\n",
    "from nose.tools import assert_equal\n",
    "from introqg_functions import dodson, transient_temp\n",
    "\n",
    "# Calculate some closure temperatures using Dodson's method\n",
    "tc1 = dodson(\n",
    "    cooling_rate=-4.0,\n",
    "    activation_energy=138.0e3,\n",
    "    diffusivity_inf=5.0e-3,\n",
    "    grain_radius=100.0,\n",
    "    geometry_factor=25\n",
    ")\n",
    "tc2 = dodson(\n",
    "    cooling_rate=-8.0,\n",
    "    activation_energy=168.0e3,\n",
    "    diffusivity_inf=4.6e-5,\n",
    "    grain_radius=100.0,\n",
    "    geometry_factor=25\n",
    ")\n",
    "tc3 = dodson(\n",
    "    cooling_rate=-14.0,\n",
    "    activation_energy=264.0e3,\n",
    "    diffusivity_inf=2.3e-4,\n",
    "    grain_radius=500.0,\n",
    "    geometry_factor=27\n",
    ")\n",
    "\n",
    "# Print calculated closure temperature\n",
    "print(f\"Calculated apatite (U-Th)/He closure temperature: {tc1:7.3f} °C\")\n",
    "print(f\"Calculated zircon (U-Th)/He closure temperature:  {tc2:7.3f} °C\")\n",
    "print(f\"Calculated muscovite Ar/Ar closure temperature:   {tc3:7.3f} °C\")\n",
    "print(\"\")\n",
    "\n",
    "# Check that the closure temperature values are correct\n",
    "assert_equal(round(tc1, 3), 72.566)\n",
    "assert_equal(round(tc2, 3), 196.282)\n",
    "assert_equal(round(tc3, 3), 492.379)\n",
    "\n",
    "# Test the transient temperature calculation\n",
    "test_temp1 = transient_temp(\n",
    "    initial_gradient=18.0,\n",
    "    diffusivity=32.0,\n",
    "    velocity=0.7,\n",
    "    depths=18.0,\n",
    "    time=35.0)\n",
    "\n",
    "test_temp2 = transient_temp(\n",
    "    initial_gradient=13.0,\n",
    "    diffusivity=32.0,\n",
    "    velocity=1.2,\n",
    "    depths=13.0,\n",
    "    time=25.0)\n",
    "\n",
    "# Print calculated closure temperature\n",
    "print(f\"Calculated transient temperature 1: {test_temp1:7.3f} °C\")\n",
    "print(f\"Calculated transient temperature 2: {test_temp2:7.3f} °C\")\n",
    "\n",
    "# Check that the closure temperature values are correct\n",
    "assert_equal(round(test_temp1, 3), 580.012)\n",
    "assert_equal(round(test_temp2, 3), 389.873)\n",
    "\n",
    "# Print message if it is safe to continue\n",
    "print(\"\\nAll tests pass! You are ready to proceed with this exercise.\")"
   ]
  },
  {
   "cell_type": "markdown",
   "id": "90a126d1",
   "metadata": {
    "deletable": false,
    "editable": false,
    "nbgrader": {
     "cell_type": "markdown",
     "checksum": "a9a4b7b8462979dfd8ff5539ebc78bbe",
     "grade": false,
     "grade_id": "cell-800c262be5b10775",
     "locked": true,
     "schema_version": 3,
     "solution": false,
     "task": false
    },
    "user_expressions": []
   },
   "source": [
    "### Part 1: Creating a thermal history function (3 points)\n",
    "\n",
    "Here, we will create a function to generate a thermal history for a rock as it travels through the crust while being advected toward the surface. We will later use this recorded temperature history to predict thermochronometer ages.\n",
    "\n",
    "The key to understanding what is done here is to understand that we will be simulating the position of a parcel of rock at depth in the earth, and at each time step the position of the rock parcel will be moved upward according to the length of the time interval between steps in the time history multiplied by the advection velocity.\n",
    "In mathematical terms, this relationship is\n",
    "\n",
    "\\begin{equation}\n",
    "  \\large\n",
    "  z(t) = z(t-1) - v_{z} dt\n",
    "\\end{equation}\n",
    "*Equation 1. Equation for calculating rock particle depth as a function of time.*\n",
    "\n",
    "Thus, we will track a parcel of rock from some depth in the model at the start of the temperature calculation to its final location at the surface when the simulation is complete at 0 Ma.\n",
    "At each depth, the temperature of the parcel of rock will be stored, which will allow the cooling in the temperature history of the rock parcel to be used to predict different thermochronometer ages.\n",
    "\n",
    "**Creating the function**\n",
    "\n",
    "Below you should create a new function in your `introqg_functions.py` script file called `calculate_temp_history()`. Your function should:\n",
    "\n",
    "- Start by defining a NumPy array of zeros in a variable called `temp_history`\n",
    "    - You can use the NumPy function `np.zeros()` to do this. Check out the [np.zeros documentation](https://numpy.org/doc/stable/reference/generated/numpy.zeros.html) to see how to use this function.\n",
    "    - The array of zeros should have the same number of values as the time history\n",
    "- Use a for loop to iterate over all of the values in your time-depth history array and calculate a temperature for each combination of time and depth\n",
    "    - I recommend you use the variable `i` with the `range(len())` function combination for the loop, with the time history as the array whose length you use to define the range of values of `i`\n",
    "        - This way you can store a temperature value for each value of `i` using the corresponding value of the time and depth histories\n",
    "    - You can calculate the temperature for a single time and depth value from the time and depth history arrays using the `transient_temp` function from your `introqg_functions.py` script file\n",
    "- At the end of the loop, return the `temp_history` array, which should contain one temperature for each depth-time pair\n",
    "\n",
    "In the function, you will pass in the following values, and you should use the same name for the parameters in your `calculate_temp_history()` function:\n",
    "\n",
    "- `time_history` (Array of time values for thermal history. **Note**: Time here is thermal model time, not time in millions of years ago; units: Myr)\n",
    "- `depth_history` (Array of depth values for thermal history; units: km)\n",
    "- `velocity` (Advection velocity; units: km / Myr)\n",
    "- `initial_gradient` (Temperature gradient at start of thermal model calculation; units: deg. C / km)\n",
    "- `diffusivity` (Thermal diffisivity; units: km^2 / Myr)\n",
    "\n",
    "**NOTE**: There is no need to convert units from the units listed above in your function. Distances in kilometers and time in millions of years (Myr) will work without conversion.\n",
    "\n",
    "**What to do for this part:**\n",
    "\n",
    "- Create a function called `calculate_temp_history()` in your `introqg_functions.py` script file\n",
    "    - Your function parameters should be `time_history`, `depth_history`, `velocity`, `gradient`, and `diffusivity` as described above"
   ]
  },
  {
   "cell_type": "code",
   "execution_count": null,
   "id": "c6b8f742",
   "metadata": {
    "deletable": false,
    "nbgrader": {
     "cell_type": "code",
     "checksum": "b2176a6a0c82ad350c2a369b1ad83686",
     "grade": false,
     "grade_id": "problem_1_ag_p1_function",
     "locked": false,
     "schema_version": 3,
     "solution": true,
     "task": false
    }
   },
   "outputs": [],
   "source": [
    "# Import your calculate_temp_history function below\n",
    "\n",
    "# YOUR CODE HERE\n",
    "raise NotImplementedError()"
   ]
  },
  {
   "cell_type": "code",
   "execution_count": null,
   "id": "d88fa40a",
   "metadata": {
    "deletable": false,
    "editable": false,
    "nbgrader": {
     "cell_type": "code",
     "checksum": "af96b06904344501243415ae68bc360e",
     "grade": true,
     "grade_id": "problem_1_ag_p1_function_test1",
     "locked": true,
     "points": 1,
     "schema_version": 3,
     "solution": false,
     "task": false
    }
   },
   "outputs": [],
   "source": [
    "# The test below should work\n",
    "\n",
    "# Import libraries we need\n",
    "import numpy as np\n",
    "from nose.tools import assert_equal\n",
    "from introqg_functions import calculate_temp_history\n",
    "\n",
    "# Define advection velocity, total time, and number of points for time and depth histories\n",
    "vz_test1 = 0.5\n",
    "total_time = 50.0\n",
    "num_pts = 401\n",
    "\n",
    "# Create time history\n",
    "time_hist_test1 = np.linspace(0.0, total_time, num_pts)\n",
    "\n",
    "# Create depth history\n",
    "max_depth = vz_test1 * total_time\n",
    "depth_hist_test1 = np.linspace(max_depth, 0.0, num_pts)\n",
    "\n",
    "# Create temperature history using calculate_temp_history function\n",
    "temp_hist_test1 = calculate_temp_history(\n",
    "    time_history=time_hist_test1,\n",
    "    depth_history=depth_hist_test1,\n",
    "    velocity=vz_test1,\n",
    "    initial_gradient=10.0,\n",
    "    diffusivity=32.0\n",
    ")\n",
    "\n",
    "# Print test temperature value\n",
    "test_index1 = 42\n",
    "print(f\"Temperature after {time_hist_test1[test_index1]} Myr at {depth_hist_test1[test_index1]} km depth: {temp_hist_test1[test_index1]:.3f} °C\")\n",
    "\n",
    "# Check that the temperature value is correct\n",
    "assert_equal(round(temp_hist_test1[test_index1], 3), 248.005)"
   ]
  },
  {
   "cell_type": "code",
   "execution_count": null,
   "id": "71df430c",
   "metadata": {
    "deletable": false,
    "editable": false,
    "nbgrader": {
     "cell_type": "code",
     "checksum": "c876d7fe6ba7fcd86eb11a1b9d5d5637",
     "grade": true,
     "grade_id": "problem_1_ag_p1_function_test2",
     "locked": true,
     "points": 1,
     "schema_version": 3,
     "solution": false,
     "task": false
    }
   },
   "outputs": [],
   "source": [
    "# The test below should work\n",
    "\n",
    "# Print test temperature value\n",
    "test_index2 = 27\n",
    "print(f\"Temperature after {time_hist_test1[test_index2]} Myr at {depth_hist_test1[test_index2]} km depth: {temp_hist_test1[test_index2]:.3f} °C\")\n",
    "\n",
    "# Check that the temperature value is correct\n",
    "assert_equal(round(temp_hist_test1[test_index2], 3), 249.488)"
   ]
  },
  {
   "cell_type": "code",
   "execution_count": null,
   "id": "ec468f6c",
   "metadata": {
    "deletable": false,
    "editable": false,
    "nbgrader": {
     "cell_type": "code",
     "checksum": "d4911fa3dbe53706e6ab3f6fff709451",
     "grade": true,
     "grade_id": "problem_1_ag_p1_function_test3",
     "locked": true,
     "points": 1,
     "schema_version": 3,
     "solution": false,
     "task": false
    }
   },
   "outputs": [],
   "source": [
    "# The test below should work\n",
    "\n",
    "# Define advection velocity, total time, and number of points for time and depth histories\n",
    "vz_test3 = 0.85\n",
    "\n",
    "# Create time history\n",
    "time_hist_test3 = np.linspace(0.0, total_time, num_pts)\n",
    "\n",
    "# Create depth history\n",
    "max_depth = vz_test3 * total_time\n",
    "depth_hist_test3 = np.linspace(max_depth, 0.0, num_pts)\n",
    "\n",
    "# Create temperature history using calculate_temp_history function\n",
    "temp_hist_test3 = calculate_temp_history(\n",
    "    time_history=time_hist_test3,\n",
    "    depth_history=depth_hist_test3,\n",
    "    velocity=vz_test3,\n",
    "    initial_gradient=15.0,\n",
    "    diffusivity=32.0\n",
    ")\n",
    "\n",
    "# Print test temperature value\n",
    "test_index3 = 365\n",
    "print(f\"Temperature after {time_hist_test3[test_index3]} Myr at {depth_hist_test3[test_index3]} km depth: {temp_hist_test3[test_index3]:.3f} °C\")\n",
    "\n",
    "# Check that the temperature value is correct\n",
    "assert_equal(round(temp_hist_test3[test_index3], 3), 146.497)"
   ]
  },
  {
   "cell_type": "markdown",
   "id": "6ad6ac95",
   "metadata": {
    "deletable": false,
    "editable": false,
    "nbgrader": {
     "cell_type": "markdown",
     "checksum": "ca6f6c63d045323bb30553304d78666f",
     "grade": false,
     "grade_id": "cell-2acdcce4928e1c12",
     "locked": true,
     "schema_version": 3,
     "solution": false,
     "task": false
    },
    "user_expressions": []
   },
   "source": [
    "### Part 2: A function for calculating closure temperatures (6 points)\n",
    "\n",
    "The next function we need to create is one for calculating the effective closure temperature from the thermal history that is produced by the `calculate_temp_history()` function. You might wonder why we need this when we already have our `dodson()` function from Exercise 3. Well, the reason we need this additional function is that we now have a thermal history with a cooling rate that might vary over time, and we need to ensure we are using the cooling rate that applies at the time when the rock parcel is cooling through the effective closure temperature. We can create our function as follows:\n",
    "\n",
    "**Creating the function**\n",
    "\n",
    "Below you should create a new function in your `introqg_functions.py` script file called `calculate_closure_temps()`. In the function, you will pass in the following values, and you should use the same name for the parameters in your `calculate_closure_temps()` function:\n",
    "\n",
    "- `time_history` (Array of time values. **Note**: Time here is thermal model time, not time in millions of years ago; units: Myr)\n",
    "- `temp_history` (Array of temperature values ; units: °C)\n",
    "- `calc_ahe` (Calculate apatite (U-Th)/He closure temperature?; `True` or `False`)\n",
    "- `calc_zhe` (Calculate zircon (U-Th)/He closure temperature?; `True` or `False`)\n",
    "- `calc_mar` (Calculate muscovite Ar/Ar closure temperature?; `True` or `False`)\n",
    "\n",
    "Your function should:\n",
    "\n",
    "- Start by setting the effective closure temperature to `None` for the thermochronometers we will consider\n",
    "    - We will use the apatite (U-Th)/He, zircon (U-Th)/He, and muscovite Ar/Ar thermochronometers\n",
    "    - In your function, I suggest using variable names such as `final_ahe_tc` for storing the closure temperature for the apatite (U-Th)/He thermochronometer, and similar names for other thermochronometers\n",
    "- Next, you can calculate an array of cooling rates for the thermal history you created using the `calculate_temp_history()` function\n",
    "    - First, calculate the time increment between values in the time history as the absolute value of the difference between the first two times in the time history array. This will ensure the time increment is a positive number.\n",
    "    - After that, you can create an array of cooling rates using the `np.gradient()` function. In our case, we will use the temperatures as the source array along with the time increment in order to calculate the changes in temperature with time (i.e., the cooling rates). Check out the [np.gradient documentation](https://numpy.org/doc/stable/reference/generated/numpy.gradient.html) to see how to use this function.\n",
    "- Finally, you will again use a `for` loop to iterate over all of the values in the time history and calculate the effective closure temperatures\n",
    "    - You should again use a `for` loop along with the `range(len())` construct to iterate over the values in the time history array\n",
    "    - Once inside the loop, you should ensure that the cooling rate is at least 0.1 °C/Myr in each iteration by taking the minimum of the cooling rate at index `i` in your cooling rates array and the value `-0.1`. You can use the `min()` function for this. Because the cooling rates will be negative, the minimum function will find the larger negative value. You can assign the output from the `min()` function to a variable such as `cooling_rate_min` and use that for your closure temperature calculations.\n",
    "    - Now that you have a suitable cooling rate in the loop, you can use your `dodson()` function to calculate closure temperatures\n",
    "        - Only calculate a closure temperature if the corresponding boolean variable (`calc_ahe`, for example) is `True`\n",
    "        - If so, call the `dodson()` function using the adjusted cooling rate (i.e., `cooling_rate_min` for the cooling rate) and with the correct parameters for the given thermochronometer (see Table 1 below). You can store the output in an appropriate variable, such as `ahe_tc`.\n",
    "        - After calculating the effective closure temperature, you should check to see whether that closure temperature is lower than the current temperature in the temperature history array for this iteration\n",
    "            - If yes, then store the newly calculated closure temperature with a variable name such as `final_ahe_tc`\n",
    "            - This will ensure that the closure temperature that is stored will only be updated while the temperature in the temperature history is above the effective closure temperature\n",
    "        - You can repeat the preceding steps for the other two remaining thermochronometers being sure to calculate the effective closure temperature only if the passed `calc_zhe` or `calc_mar` parameter variable is `True` and storing the \"final\" closure temperature only when the temperature in the temperature history is above the calculated closure temperature\n",
    "- After calculating the closure temperatures, you can return all three \"final values\" (e.g., `final_ahe_tc`) in a single `return` statement\n",
    "\n",
    "The parameters to use for the closure temperature calculations are below.\n",
    "\n",
    "| Thermochronometer | $E_{\\mathrm{a}}$      | $D_{0}$              | $a$   | $A$ |\n",
    "|-------------------|:---------------------:|:--------------------:|:-----:|:---:|\n",
    "| Apatite (U-Th)/He | $138.0 \\times 10^{3}$ | $5.0 \\times 10^{-3}$ | 100.0 | 25  |\n",
    "| Zircon (U-Th)/He  | $168.0 \\times 10^{3}$ | $4.6 \\times 10^{-5}$ | 100.0 | 25  |\n",
    "| Muscovite Ar/Ar   | $264.0 \\times 10^{3}$ | $2.3 \\times 10^{-4}$ | 500.0 | 27  |\n",
    "\n",
    "*Table 1. Parameters for effective closure temperature calculations. $E_{\\mathrm{a}}$ is the activation energy, $D_{0}$ is the diffusivity at infinite temperature, $a$ is the grain radius, and $A$ is the geometry factor.*\n",
    "\n",
    "**What to do for this part:**\n",
    "\n",
    "- Create a function called `calculate_closure_temps()` in your `introqg_functions.py` script file\n",
    "    - Your function parameters should be `time_history`, `temp_history`, `calc_ahe`, `calc_zhe`, and `calc_mar` as described above"
   ]
  },
  {
   "cell_type": "code",
   "execution_count": null,
   "id": "670cfdbb",
   "metadata": {
    "deletable": false,
    "nbgrader": {
     "cell_type": "code",
     "checksum": "ef14779f566df86415693b3069158772",
     "grade": false,
     "grade_id": "problem_1_ag_p2_function",
     "locked": false,
     "schema_version": 3,
     "solution": true,
     "task": false
    }
   },
   "outputs": [],
   "source": [
    "# Import your calculate_closure_temps function below\n",
    "\n",
    "# YOUR CODE HERE\n",
    "raise NotImplementedError()"
   ]
  },
  {
   "cell_type": "code",
   "execution_count": null,
   "id": "807ec421",
   "metadata": {
    "deletable": false,
    "editable": false,
    "nbgrader": {
     "cell_type": "code",
     "checksum": "cb0a5c1ff998ffff59a82badf3e4bfa2",
     "grade": true,
     "grade_id": "problem_1_ag_p2_function_test1",
     "locked": true,
     "points": 2,
     "schema_version": 3,
     "solution": false,
     "task": false
    }
   },
   "outputs": [],
   "source": [
    "# The test below should work\n",
    "\n",
    "# Import libraries we need\n",
    "from nose.tools import assert_equal\n",
    "from introqg_functions import calculate_closure_temps\n",
    "\n",
    "# Create time history\n",
    "time_hist_test1 = np.array([0.0, 50.0])\n",
    "\n",
    "# Create temperature history\n",
    "temp_hist_test1 = np.array([500.0, 0.0])\n",
    "\n",
    "# Calculate closure temperatures\n",
    "ahe_tc1, zhe_tc1, mar_tc1 = calculate_closure_temps(\n",
    "    time_history=time_hist_test1,\n",
    "    temp_history=temp_hist_test1,\n",
    "    calc_ahe=True,\n",
    "    calc_zhe=False,\n",
    "    calc_mar=True\n",
    ")\n",
    "\n",
    "# Print closure temperatures\n",
    "print(f\"Apatite (U-Th)/He closure temperature: {ahe_tc1:.1f} °C. Expected value: 79.0 °C.\")\n",
    "print(f\"Zircon (U-Th)/He closure temperature: {zhe_tc1}. Expected value: None.\")\n",
    "print(f\"Muscovite Ar/Ar closure temperature: {mar_tc1:.1f} °C. Expected value: 486.5 °C.\")\n",
    "\n",
    "# Check that the AHe closure temperature is correct\n",
    "assert_equal(round(ahe_tc1, 3), 79.016)"
   ]
  },
  {
   "cell_type": "code",
   "execution_count": null,
   "id": "7ee4ffd3",
   "metadata": {
    "deletable": false,
    "editable": false,
    "nbgrader": {
     "cell_type": "code",
     "checksum": "fdcaff8132657eae830d04e2e67a0774",
     "grade": true,
     "grade_id": "problem_1_ag_p2_function_test2",
     "locked": true,
     "points": 2,
     "schema_version": 3,
     "solution": false,
     "task": false
    }
   },
   "outputs": [],
   "source": [
    "# The test below should work\n",
    "\n",
    "# Create time history\n",
    "time_hist_test2 = np.array([0.0, 50.0])\n",
    "\n",
    "# Create temperature history\n",
    "temp_hist_test2 = np.array([250.0, 0.0])\n",
    "\n",
    "# Calculate closure temperatures\n",
    "ahe_tc2, zhe_tc2, mar_tc2 = calculate_closure_temps(\n",
    "    time_history=time_hist_test2,\n",
    "    temp_history=temp_hist_test2,\n",
    "    calc_ahe=True,\n",
    "    calc_zhe=True,\n",
    "    calc_mar=True\n",
    ")\n",
    "\n",
    "# Print closure temperatures\n",
    "print(f\"Apatite (U-Th)/He closure temperature: {ahe_tc2:.1f} °C. Expected value: 74.1 °C.\")\n",
    "print(f\"Zircon (U-Th)/He closure temperature: {zhe_tc2:.1f}. Expected value: 191.4 °C.\")\n",
    "print(f\"Muscovite Ar/Ar closure temperature: {mar_tc2}. Expected value: None.\")\n",
    "\n",
    "# Check that the ZHe closure temperature is correct\n",
    "assert_equal(round(zhe_tc2, 3), 191.434)"
   ]
  },
  {
   "cell_type": "code",
   "execution_count": null,
   "id": "d45836cb",
   "metadata": {
    "deletable": false,
    "editable": false,
    "nbgrader": {
     "cell_type": "code",
     "checksum": "632fd9e3fdd6f0ddd076df81fcf1f6e7",
     "grade": true,
     "grade_id": "problem_1_ag_p2_function_test3",
     "locked": true,
     "points": 2,
     "schema_version": 3,
     "solution": false,
     "task": false
    }
   },
   "outputs": [],
   "source": [
    "# The test below should work\n",
    "\n",
    "# Create time history\n",
    "time_hist_test3 = np.array([0.0, 25.0])\n",
    "\n",
    "# Create temperature history\n",
    "temp_hist_test3 = np.array([600.0, 0.0])\n",
    "\n",
    "# Calculate closure temperatures\n",
    "ahe_tc3, zhe_tc3, mar_tc3 = calculate_closure_temps(\n",
    "    time_history=time_hist_test3,\n",
    "    temp_history=temp_hist_test3,\n",
    "    calc_ahe=True,\n",
    "    calc_zhe=True,\n",
    "    calc_mar=True\n",
    ")\n",
    "\n",
    "# Print closure temperatures\n",
    "print(f\"Apatite (U-Th)/He closure temperature: {ahe_tc3:.1f} °C. Expected value: 85.4 °C.\")\n",
    "print(f\"Zircon (U-Th)/He closure temperature: {zhe_tc3:.1f} °C. Expected value: 208.0 °C.\")\n",
    "print(f\"Muscovite Ar/Ar closure temperature: {mar_tc3:.1f} °C. Expected value: 502.0 °C.\")\n",
    "\n",
    "# Check that the temperature value is correct\n",
    "assert_equal(round(mar_tc3, 3), 501.986)"
   ]
  },
  {
   "cell_type": "markdown",
   "id": "5a4bbdc9",
   "metadata": {
    "deletable": false,
    "editable": false,
    "nbgrader": {
     "cell_type": "markdown",
     "checksum": "d704bde244f8bd1cf0177d0e929fa07e",
     "grade": false,
     "grade_id": "cell-33f11499ff582022",
     "locked": true,
     "schema_version": 3,
     "solution": false,
     "task": false
    },
    "user_expressions": []
   },
   "source": [
    "### Part 3: A function for calculating thermochronometer ages (3 points)\n",
    "\n",
    "Now that we have a closure temperature for our thermochronometers of interest, we can move on to calculating a thermochronometer age using that closure temperature. Compared to the previous function, this will be quite straightforward.\n",
    "\n",
    "At this point we have a thermal history from the combination of depth-time and temperature values, and a closure temperature. In order to calculate an age, we simply need to determine the time at which we reach the effective closure temperature in the thermal history. We will do this using a linear interpolation of the thermal history, as described below.\n",
    "\n",
    "**Creating the function**\n",
    "\n",
    "Below you should create a new function in your `introqg_functions.py` script file called `calculate_age()`. In the function, you will pass in the following values, and you should use the same name for the parameters in your `calculate_age()` function:\n",
    "\n",
    "- `time_history` (Array of time values. **Note**: Time here is thermal model time, not time in millions of years ago; units: Myr)\n",
    "- `temp_history` (Array of temperature values ; units: °C)\n",
    "- `closure_temp` (The closure temperature; units: °C)\n",
    "\n",
    "Your function should:\n",
    "\n",
    "- Use a linear interpolation function to find the time at which the closure temperature is reached in the thermal history\n",
    "    - We will use the NumPy function `np.interp()` for this interpolation. The `np.interp()` function accepts 3 values (at least) to find the interpolated value. The values in our case would be the closure temperature, the temperature history array, and finally the time history array. You can read more about the `np.interp()` function in the [NumPy documentation online](https://numpy.org/doc/stable/reference/generated/numpy.interp.html).\n",
    "        - **Note**: One challenge with the `np.interp()` function is that it requires the array of temperatures to be in increasing order, rather than decreasing as we have it now. You can use the `np.flip()` function to reverse the order of the items in the temperature history when you do the interpolation. You can find more information about the `np.flip()` function in the [NumPy documentation online](https://numpy.org/doc/stable/reference/generated/numpy.flip.html).\n",
    "            - **Note**: The approach of flipping the temperature history described above allows us to use a nice \"trick\" here. We have a time array that is in increasing order from 0.0 Myr at the start of the thermal history to some final value (50 Myr, for example), but thermochronometer ages are normally reported as the number of millions of years ago (Ma). Normally, we would convert from our time history values (starting from 0.0) to millions of years ago by subtracting the interpolated age from the highest value in the time history, which would give a time in millions of years ago. However, in this case by interpolating with a flipped temperature array without flipping the time history, the value we get for the interpolated age will be in millions of years ago already. Cool!\n",
    "- You can assign the value from the interpolation to a variable such as `age` and return that value at the end of the function definition\n",
    "\n",
    "**What to do for this part:**\n",
    "\n",
    "- Create a function called `calculate_age()` in your `introqg_functions.py` script file\n",
    "    - Your function parameters should be `time_history`, `temp_history`, and `closure_temp` as described above"
   ]
  },
  {
   "cell_type": "code",
   "execution_count": null,
   "id": "c51de138",
   "metadata": {
    "deletable": false,
    "nbgrader": {
     "cell_type": "code",
     "checksum": "2b84b6f0fed9fc41c1b3f4dc6db1107f",
     "grade": false,
     "grade_id": "problem_1_ag_p3_function",
     "locked": false,
     "schema_version": 3,
     "solution": true,
     "task": false
    }
   },
   "outputs": [],
   "source": [
    "# Import your calculate_age function below\n",
    "\n",
    "# YOUR CODE HERE\n",
    "raise NotImplementedError()"
   ]
  },
  {
   "cell_type": "code",
   "execution_count": null,
   "id": "30c3eec2",
   "metadata": {
    "deletable": false,
    "editable": false,
    "nbgrader": {
     "cell_type": "code",
     "checksum": "6dd76905e10f9b1bd4ea74cd71f03029",
     "grade": true,
     "grade_id": "problem_1_ag_p3_function_test1",
     "locked": true,
     "points": 1,
     "schema_version": 3,
     "solution": false,
     "task": false
    }
   },
   "outputs": [],
   "source": [
    "# The test below should work\n",
    "\n",
    "# Import libraries we need\n",
    "from nose.tools import assert_equal\n",
    "from introqg_functions import calculate_age\n",
    "\n",
    "# Calculate AHe age\n",
    "ahe_age1 = calculate_age(\n",
    "    time_history=time_hist_test1,\n",
    "    temp_history=temp_hist_test1,\n",
    "    closure_temp=ahe_tc1\n",
    ")\n",
    "\n",
    "# Print age\n",
    "print(f\"Apatite (U-Th)/He age: {ahe_age1:.1f} Ma. Expected value: 7.9 Ma.\")\n",
    "\n",
    "# Check that the AHe closure temperature is correct\n",
    "assert_equal(round(ahe_age1, 3), 7.902)"
   ]
  },
  {
   "cell_type": "code",
   "execution_count": null,
   "id": "348a5c9c",
   "metadata": {
    "deletable": false,
    "editable": false,
    "nbgrader": {
     "cell_type": "code",
     "checksum": "d055242434d3608bd6e5557e23ebd7a2",
     "grade": true,
     "grade_id": "problem_1_ag_p3_function_test2",
     "locked": true,
     "points": 1,
     "schema_version": 3,
     "solution": false,
     "task": false
    }
   },
   "outputs": [],
   "source": [
    "# The test below should work\n",
    "\n",
    "# Calculate ZHe age\n",
    "zhe_age1 = calculate_age(\n",
    "    time_history=time_hist_test2,\n",
    "    temp_history=temp_hist_test2,\n",
    "    closure_temp=zhe_tc2\n",
    ")\n",
    "\n",
    "# Print age\n",
    "print(f\"Zircon (U-Th)/He age: {zhe_age1:.1f} Ma. Expected value: 38.3 Ma.\")\n",
    "\n",
    "# Check that the ZHe closure temperature is correct\n",
    "assert_equal(round(zhe_age1, 3), 38.287)"
   ]
  },
  {
   "cell_type": "code",
   "execution_count": null,
   "id": "535df959",
   "metadata": {
    "deletable": false,
    "editable": false,
    "nbgrader": {
     "cell_type": "code",
     "checksum": "223b86c7c849ac634fab89bdfad0091b",
     "grade": true,
     "grade_id": "problem_1_ag_p3_function_test3",
     "locked": true,
     "points": 1,
     "schema_version": 3,
     "solution": false,
     "task": false
    }
   },
   "outputs": [],
   "source": [
    "# The test below should work\n",
    "\n",
    "# Calculate MAr age\n",
    "mar_age1 = calculate_age(\n",
    "    time_history=time_hist_test3,\n",
    "    temp_history=temp_hist_test3,\n",
    "    closure_temp=mar_tc3\n",
    ")\n",
    "\n",
    "# Print age\n",
    "print(f\"Muscovite Ar/Ar age: {mar_age1:.1f} Ma. Expected value: 20.9 Ma.\")\n",
    "\n",
    "# Check that the MAr closure temperature is correct\n",
    "assert_equal(round(mar_age1, 3), 20.916)"
   ]
  },
  {
   "cell_type": "markdown",
   "id": "33c23142",
   "metadata": {
    "deletable": false,
    "editable": false,
    "nbgrader": {
     "cell_type": "markdown",
     "checksum": "eb63a765638f5f8011897ea10cc61ce9",
     "grade": false,
     "grade_id": "cell-25219cd9c6fda0a5",
     "locked": true,
     "schema_version": 3,
     "solution": false,
     "task": false
    }
   },
   "source": [
    "### Part 4: Testing the model (2 points)\n",
    "\n",
    "At this point we have all of the components we need to see how this thermochronometer age prediction model works. We simply need to combine the different parts in order to calculate some predicted thermochronometer ages. Let's do that below.\n",
    "\n",
    "**Combining the model components**\n",
    "\n",
    "Below is the list of items we need to do in order to test our numerical model.\n",
    "\n",
    "1. Define some parameters used in the model. In our case, we need to define the following:\n",
    "    - A total simulation time (variable `total_time`) in Myr: `50.0`\n",
    "    - The number of points where the depth, temperature, and time are stored (variable `num_pts`): `401`\n",
    "    - The advection velocity in the thermal model (variable `velocity`) in km/Myr: `0.8`\n",
    "    - The initial thermal gradient in the thermal model (variable `initial_gradient`) in °C/km: `10.0`\n",
    "    - The thermal diffusivity for the thermal model (variable `diffusivity`) in km$^{2}$/Myr: `32.0`\n",
    "2. Create the time and depth histories (variables `time_history`, `depth_history`)\n",
    "    - You will need to use the `np.linspace()` function for this. You can see how it can be done by looking at the tests for Part 1 of this problem.\n",
    "3. Create a temperature history using your `calculate_temp_history()` function using the variables defined above and storing the temperature history as `temp_history`, for example.\n",
    "4. Calculate the closure temperatures for all three thermochronometers using your `calculate_closure_temps()` function\n",
    "    - Assign the calculated closure temperatures to the variables `ahe_tc`, `zhe_tc`, and `mar_tc`\n",
    "5. Use your `calculate_age()` function to calculate a thermochronometer age for all three thermochronometers\n",
    "    - **Note**: If a closure temperature for a given thermochronometer is `None` then the calculated age will be `nan`\n",
    "\n",
    "That's it! At this point you will have calculated any thermochronometer ages where the thermal history passes through the closure temperature. If all goes well, we'll now be in position to explore how the model works in Problem 2.\n",
    "\n",
    "**What to do for this part:**\n",
    "\n",
    "- Follow the instructions above to calculate some thermochronometer ages\n",
    "    - Be sure to use the variable names `ahe_tc`, `zhe_tc`, and `mar_tc` for the closure temperatures\n",
    "    - Be sure to use the variable names `ahe_age`, `zhe_age`, and `mar_age` for the ages\n",
    "    - The other variable names will not matter, as long as you define them so that your functions use the correct values"
   ]
  },
  {
   "cell_type": "code",
   "execution_count": null,
   "id": "fa282414",
   "metadata": {
    "deletable": false,
    "nbgrader": {
     "cell_type": "code",
     "checksum": "266529b12b6ef1fd9130e6c1a26f203d",
     "grade": false,
     "grade_id": "problem_1_ag_p4_model",
     "locked": false,
     "schema_version": 3,
     "solution": true,
     "task": false
    }
   },
   "outputs": [],
   "source": [
    "# Fill in the cell below in order to calculate the thermochronometer ages\n",
    "\n",
    "# YOUR CODE HERE\n",
    "raise NotImplementedError()"
   ]
  },
  {
   "cell_type": "code",
   "execution_count": null,
   "id": "2a10aa00",
   "metadata": {
    "deletable": false,
    "editable": false,
    "nbgrader": {
     "cell_type": "code",
     "checksum": "f9151a54bb6de25073a1673ef875be64",
     "grade": true,
     "grade_id": "problem_1_ag_p4_model_test1",
     "locked": true,
     "points": 1,
     "schema_version": 3,
     "solution": false,
     "task": false
    }
   },
   "outputs": [],
   "source": [
    "# Print the predicted closure temperatures\n",
    "print(f\"Apatite (U-Th)/He closure temperature: {ahe_tc:.1f} °C.\")\n",
    "print(f\"Zircon (U-Th)/He closure temperature: {zhe_tc:.1f} °C.\")\n",
    "print(f\"Muscovite Ar/Ar closure temperature: {mar_tc}.\")\n",
    "print(\"\")\n",
    "print(\"The expected apatite (U-Th)/He closure temperature is 83.5 °C.\")\n"
   ]
  },
  {
   "cell_type": "code",
   "execution_count": null,
   "id": "2f867ae1",
   "metadata": {
    "deletable": false,
    "editable": false,
    "nbgrader": {
     "cell_type": "code",
     "checksum": "5decc2f99241ce33c9e504928ad166b2",
     "grade": true,
     "grade_id": "problem_1_ag_p4_model_test2",
     "locked": true,
     "points": 1,
     "schema_version": 3,
     "solution": false,
     "task": false
    }
   },
   "outputs": [],
   "source": [
    "# Print the predicted ages\n",
    "print(f\"Apatite (U-Th)/He age: {ahe_age:.1f} Ma.\")\n",
    "print(f\"Zircon (U-Th)/He age: {zhe_age:.1f} Ma.\")\n",
    "print(f\"Muscovite Ar/Ar age: {mar_age:.1f} Ma.\")\n",
    "print(\"\")\n",
    "print(\"The expected zircon (U-Th)/He age is 11.5 Ma.\")\n"
   ]
  },
  {
   "cell_type": "markdown",
   "id": "c6167b04",
   "metadata": {
    "deletable": false,
    "editable": false,
    "nbgrader": {
     "cell_type": "markdown",
     "checksum": "411665b85a4b1c0d9c9b2980107e145c",
     "grade": false,
     "grade_id": "cell-f52be03c1e6473ae",
     "locked": true,
     "schema_version": 3,
     "solution": false,
     "task": false
    }
   },
   "source": [
    "## Problem 2: Exploring temperatures and thermochronometer ages (6 points)\n",
    "\n",
    "After doing the heavy lifting in Problem 1, we will now apply the numerical model we have created to see how thermochronometer ages vary for different advection velocities and initial geothermal gradients.\n",
    "\n",
    "### Scores for this problem\n",
    "\n",
    "**Your score on this problem will be based on following criteria**:\n",
    "\n",
    "- Using the numerical model created in Part 4 of Problem 1 to explore different advection velocities and initial thermal gradients\n",
    "- Including comments that explain what most lines in the code do\n",
    "- Uploading your notebook to your GitHub repository for this week's exercise"
   ]
  },
  {
   "cell_type": "markdown",
   "id": "9baa36e9",
   "metadata": {
    "deletable": false,
    "editable": false,
    "nbgrader": {
     "cell_type": "markdown",
     "checksum": "24fdf3fbfba220b5fc8ac9acd8e7efa1",
     "grade": false,
     "grade_id": "cell-de0f9361f60a2d1b",
     "locked": true,
     "schema_version": 3,
     "solution": false,
     "task": false
    }
   },
   "source": [
    "### Part 1: Slower advection (2 points)\n",
    "\n",
    "We can first start our exploration of how different advection velocities affect thermochronometer ages by considering a case of slower advection (compared to Part 4 in Problem 1). You can use the same model steps as in Part 4 of Problem 1 with the following parameters.\n",
    "\n",
    "- A total simulation time (variable `total_time`) in Myr: `50.0`\n",
    "- The number of points where the depth, temperature, and time are stored (variable `num_pts`): `401`\n",
    "- The advection velocity in the thermal model (variable `velocity`) in km/Myr: `0.4`\n",
    "- The initial thermal gradient in the thermal model (variable `initial_gradient`) in °C/km: `10.0`\n",
    "- The thermal diffusivity for the thermal model (variable `diffusivity`) in km$^{2}$/Myr: `32.0`\n",
    "\n",
    "**What to do for this part:**\n",
    "\n",
    "- Follow the instructions above to calculate some thermochronometer ages\n",
    "    - Be sure to use the variable names `ahe_tc`, `zhe_tc`, and `mar_tc` for the closure temperatures\n",
    "    - Be sure to use the variable names `ahe_age`, `zhe_age`, and `mar_age` for the ages\n",
    "    - The other variable names will not matter, as long as you define them so that your functions use the correct values"
   ]
  },
  {
   "cell_type": "code",
   "execution_count": null,
   "id": "bead940f",
   "metadata": {
    "deletable": false,
    "nbgrader": {
     "cell_type": "code",
     "checksum": "e3614e112f9a22e492c73ef1653f2b64",
     "grade": false,
     "grade_id": "problem_2_ag_p1_slow",
     "locked": false,
     "schema_version": 3,
     "solution": true,
     "task": false
    }
   },
   "outputs": [],
   "source": [
    "# Fill in the cell below in order to calculate the thermochronometer ages\n",
    "\n",
    "# YOUR CODE HERE\n",
    "raise NotImplementedError()"
   ]
  },
  {
   "cell_type": "code",
   "execution_count": null,
   "id": "341c753a",
   "metadata": {
    "deletable": false,
    "editable": false,
    "nbgrader": {
     "cell_type": "code",
     "checksum": "4875a4e82fc80f685411cc9898746717",
     "grade": true,
     "grade_id": "problem_2_ag_p1_slow_test1",
     "locked": true,
     "points": 1,
     "schema_version": 3,
     "solution": false,
     "task": false
    }
   },
   "outputs": [],
   "source": [
    "# Print the predicted closure temperatures\n",
    "print(f\"Apatite (U-Th)/He closure temperature: {ahe_tc:.1f} °C.\")\n",
    "print(f\"Zircon (U-Th)/He closure temperature: {zhe_tc:.1f} °C.\")\n",
    "print(f\"Muscovite Ar/Ar closure temperature: {mar_tc}.\")\n",
    "print(\"\")\n",
    "print(\"The expected apatite (U-Th)/He closure temperature is 74.9 °C.\")\n"
   ]
  },
  {
   "cell_type": "code",
   "execution_count": null,
   "id": "2bca6d6f",
   "metadata": {
    "deletable": false,
    "editable": false,
    "nbgrader": {
     "cell_type": "code",
     "checksum": "d63595523e9e33ee8e26811860f8bc1a",
     "grade": true,
     "grade_id": "problem_2_ag_p1_slow_test2",
     "locked": true,
     "points": 1,
     "schema_version": 3,
     "solution": false,
     "task": false
    }
   },
   "outputs": [],
   "source": [
    "# Print the predicted ages\n",
    "print(f\"Apatite (U-Th)/He age: {ahe_age:.1f} Ma.\")\n",
    "print(f\"Zircon (U-Th)/He age: {zhe_age:.1f} Ma.\")\n",
    "print(f\"Muscovite Ar/Ar age: {mar_age:.1f} Ma.\")\n",
    "print(\"\")\n",
    "print(\"The expected zircon (U-Th)/He age is 38.5 Ma.\")\n"
   ]
  },
  {
   "cell_type": "markdown",
   "id": "1e0de77e",
   "metadata": {
    "deletable": false,
    "editable": false,
    "nbgrader": {
     "cell_type": "markdown",
     "checksum": "84ed696487ae9dd76d358a7c23bc465f",
     "grade": false,
     "grade_id": "cell-ac05774bae4d5855",
     "locked": true,
     "schema_version": 3,
     "solution": false,
     "task": false
    }
   },
   "source": [
    "### Part 2: Faster advection (2 points)\n",
    "\n",
    "Now let's consider a faster advection velocity. Again, you can use the same model steps as in Part 4 of Problem 1 with the following parameters.\n",
    "\n",
    "- A total simulation time (variable `total_time`) in Myr: `50.0`\n",
    "- The number of points where the depth, temperature, and time are stored (variable `num_pts`): `401`\n",
    "- The advection velocity in the thermal model (variable `velocity`) in km/Myr: `1.6`\n",
    "- The initial thermal gradient in the thermal model (variable `initial_gradient`) in °C/km: `10.0`\n",
    "- The thermal diffusivity for the thermal model (variable `diffusivity`) in km$^{2}$/Myr: `32.0`\n",
    "\n",
    "**What to do for this part:**\n",
    "\n",
    "- Follow the instructions above to calculate some thermochronometer ages\n",
    "    - Be sure to use the variable names `ahe_tc`, `zhe_tc`, and `mar_tc` for the closure temperatures\n",
    "    - Be sure to use the variable names `ahe_age`, `zhe_age`, and `mar_age` for the ages\n",
    "    - The other variable names will not matter, as long as you define them so that your functions use the correct values"
   ]
  },
  {
   "cell_type": "code",
   "execution_count": null,
   "id": "4f987c76",
   "metadata": {
    "deletable": false,
    "nbgrader": {
     "cell_type": "code",
     "checksum": "531edac305a996efa80c4cfc750c6242",
     "grade": false,
     "grade_id": "problem_2_ag_p2_fast",
     "locked": false,
     "schema_version": 3,
     "solution": true,
     "task": false
    }
   },
   "outputs": [],
   "source": [
    "# Fill in the cell below in order to calculate the thermochronometer ages\n",
    "\n",
    "# YOUR CODE HERE\n",
    "raise NotImplementedError()"
   ]
  },
  {
   "cell_type": "code",
   "execution_count": null,
   "id": "e73dd3e9",
   "metadata": {
    "deletable": false,
    "editable": false,
    "nbgrader": {
     "cell_type": "code",
     "checksum": "745fd6c436fa3b0aef1a097fd29f7c75",
     "grade": true,
     "grade_id": "problem_2_ag_p2_fast_test1",
     "locked": true,
     "points": 1,
     "schema_version": 3,
     "solution": false,
     "task": false
    }
   },
   "outputs": [],
   "source": [
    "# Print the predicted closure temperatures\n",
    "print(f\"Apatite (U-Th)/He closure temperature: {ahe_tc:.1f} °C.\")\n",
    "print(f\"Zircon (U-Th)/He closure temperature: {zhe_tc:.1f} °C.\")\n",
    "print(f\"Muscovite Ar/Ar closure temperature: {mar_tc:.1f} °C.\")\n",
    "print(\"\")\n",
    "print(\"The expected apatite (U-Th)/He closure temperature is 95.0 °C.\")\n"
   ]
  },
  {
   "cell_type": "code",
   "execution_count": null,
   "id": "3df33a6b",
   "metadata": {
    "deletable": false,
    "editable": false,
    "nbgrader": {
     "cell_type": "code",
     "checksum": "8c9021fcbe8b0532b16f9ef586cc2a45",
     "grade": true,
     "grade_id": "problem_2_ag_p2_fast_test2",
     "locked": true,
     "points": 1,
     "schema_version": 3,
     "solution": false,
     "task": false
    }
   },
   "outputs": [],
   "source": [
    "# Print the predicted ages\n",
    "print(f\"Apatite (U-Th)/He age: {ahe_age:.1f} Ma.\")\n",
    "print(f\"Zircon (U-Th)/He age: {zhe_age:.1f} Ma.\")\n",
    "print(f\"Muscovite Ar/Ar age: {mar_age:.1f} Ma.\")\n",
    "print(\"\")\n",
    "print(\"The expected muscovite Ar/Ar age is 8.1 Ma.\")\n"
   ]
  },
  {
   "cell_type": "markdown",
   "id": "3d9e89e7",
   "metadata": {
    "deletable": false,
    "editable": false,
    "nbgrader": {
     "cell_type": "markdown",
     "checksum": "91e612bf676b64cc86e41a726cac41be",
     "grade": false,
     "grade_id": "cell-bd00c6c897b71975",
     "locked": true,
     "schema_version": 3,
     "solution": false,
     "task": false
    }
   },
   "source": [
    "### Part 3: A higher initial geothermal gradient (2 points)\n",
    "\n",
    "Finally, let's now consider a higher initial geothermal gradient and its affect on our predicted thermochronometer ages and closure temperatures. Again, you can use the same model steps as in Part 4 of Problem 1 with the following parameters.\n",
    "\n",
    "- A total simulation time (variable `total_time`) in Myr: `50.0`\n",
    "- The number of points where the depth, temperature, and time are stored (variable `num_pts`): `401`\n",
    "- The advection velocity in the thermal model (variable `velocity`) in km/Myr: `0.8`\n",
    "- The initial thermal gradient in the thermal model (variable `initial_gradient`) in °C/km: `20.0`\n",
    "- The thermal diffusivity for the thermal model (variable `diffusivity`) in km$^{2}$/Myr: `32.0`\n",
    "\n",
    "**What to do for this part:**\n",
    "\n",
    "- Follow the instructions above to calculate some thermochronometer ages\n",
    "    - Be sure to use the variable names `ahe_tc`, `zhe_tc`, and `mar_tc` for the closure temperatures\n",
    "    - Be sure to use the variable names `ahe_age`, `zhe_age`, and `mar_age` for the ages\n",
    "    - The other variable names will not matter, as long as you define them so that your functions use the correct values"
   ]
  },
  {
   "cell_type": "code",
   "execution_count": null,
   "id": "0d333d57",
   "metadata": {
    "deletable": false,
    "nbgrader": {
     "cell_type": "code",
     "checksum": "ca048bdff808b5c837afdd2435348eae",
     "grade": false,
     "grade_id": "problem_2_ag_p3_gradient",
     "locked": false,
     "schema_version": 3,
     "solution": true,
     "task": false
    }
   },
   "outputs": [],
   "source": [
    "# Fill in the cell below in order to calculate the thermochronometer ages\n",
    "\n",
    "# YOUR CODE HERE\n",
    "raise NotImplementedError()"
   ]
  },
  {
   "cell_type": "code",
   "execution_count": null,
   "id": "5b36ee9e",
   "metadata": {
    "deletable": false,
    "editable": false,
    "nbgrader": {
     "cell_type": "code",
     "checksum": "b79602aa0bc17242b7094c2dfc652226",
     "grade": true,
     "grade_id": "problem_2_ag_p3_gradient_test1",
     "locked": true,
     "points": 1,
     "schema_version": 3,
     "solution": false,
     "task": false
    }
   },
   "outputs": [],
   "source": [
    "# Print the predicted closure temperatures\n",
    "print(f\"Apatite (U-Th)/He closure temperature: {ahe_tc:.1f} °C.\")\n",
    "print(f\"Zircon (U-Th)/He closure temperature: {zhe_tc:.1f} °C.\")\n",
    "print(f\"Muscovite Ar/Ar closure temperature: {mar_tc:.1f} °C.\")\n",
    "print(\"\")\n",
    "print(\"The expected apatite (U-Th)/He closure temperature is 89.2 °C.\")\n"
   ]
  },
  {
   "cell_type": "code",
   "execution_count": null,
   "id": "6a70894d",
   "metadata": {
    "deletable": false,
    "editable": false,
    "nbgrader": {
     "cell_type": "code",
     "checksum": "fcd335068cc1ca343ca8e1f241cd15f7",
     "grade": true,
     "grade_id": "problem_2_ag_p3_gradient_test2",
     "locked": true,
     "points": 1,
     "schema_version": 3,
     "solution": false,
     "task": false
    }
   },
   "outputs": [],
   "source": [
    "# Print the predicted ages\n",
    "print(f\"Apatite (U-Th)/He age: {ahe_age:.1f} Ma.\")\n",
    "print(f\"Zircon (U-Th)/He age: {zhe_age:.1f} Ma.\")\n",
    "print(f\"Muscovite Ar/Ar age: {mar_age:.1f} Ma.\")\n",
    "print(\"\")\n",
    "print(\"The expected zircon (U-Th)/He age is 5.4 Ma.\")\n"
   ]
  },
  {
   "cell_type": "markdown",
   "id": "bc796d5a",
   "metadata": {
    "deletable": false,
    "editable": false,
    "nbgrader": {
     "cell_type": "markdown",
     "checksum": "8a0029c8396efc0e5f5bfaa690e88978",
     "grade": false,
     "grade_id": "cell-5b0eec5ae45b8322",
     "locked": true,
     "schema_version": 3,
     "solution": false,
     "task": false
    },
    "user_expressions": []
   },
   "source": [
    "## Optional reflection questions (0 points)\n",
    "\n",
    "After completing the coding and running the models above, consider the following questions. Please answer them briefly in the Markdown cell below.\n",
    "\n",
    "1. Based on what you observed in the comparison of the predicted ages in Part 4 of Problem 1 and in Problem 2, how does the advection velocity affect the thermochronometer ages? Why might this be?\n",
    "2. Based on what you observed in the comparison of the predicted closure temperatures in Part 4 of Problem 1 and in Problem 2, how does the advection velocity affect the thermochronometer closure temperatures? Why might this be?\n",
    "3. In some cases you may have asked for a closure temperature to be calculated for the muscovite Ar/Ar thermochronometer, but received a value of `None`. What does that tell you about the relationship between the closure temperature and the temperature history from the thermal model?"
   ]
  },
  {
   "cell_type": "markdown",
   "id": "e072e283",
   "metadata": {
    "deletable": false,
    "nbgrader": {
     "cell_type": "markdown",
     "checksum": "894cadc4ba8141ec5b48d789a9af887e",
     "grade": true,
     "grade_id": "cell-38357e3f68fb789b",
     "locked": false,
     "points": 0,
     "schema_version": 3,
     "solution": true,
     "task": false
    }
   },
   "source": [
    "YOUR ANSWER HERE"
   ]
  }
 ],
 "metadata": {
  "kernelspec": {
   "display_name": "Python 3 (ipykernel)",
   "language": "python",
   "name": "python3"
  },
  "language_info": {
   "codemirror_mode": {
    "name": "ipython",
    "version": 3
   },
   "file_extension": ".py",
   "mimetype": "text/x-python",
   "name": "python",
   "nbconvert_exporter": "python",
   "pygments_lexer": "ipython3",
   "version": "3.10.13"
  }
 },
 "nbformat": 4,
 "nbformat_minor": 5
}
